{
  "nbformat": 4,
  "nbformat_minor": 0,
  "metadata": {
    "colab": {
      "name": "Lab_3_EDA.ipynb",
      "provenance": [],
      "include_colab_link": true
    },
    "language_info": {
      "codemirror_mode": {
        "name": "ipython",
        "version": 3
      },
      "file_extension": ".py",
      "mimetype": "text/x-python",
      "name": "python",
      "nbconvert_exporter": "python",
      "pygments_lexer": "ipython3",
      "version": "3.6.5"
    },
    "kernelspec": {
      "display_name": "Python 3",
      "language": "python",
      "name": "python3"
    }
  },
  "cells": [
    {
      "cell_type": "markdown",
      "metadata": {
        "id": "view-in-github",
        "colab_type": "text"
      },
      "source": [
        "<a href=\"https://colab.research.google.com/github/fantashi099/DataScienceDevCAssignment/blob/master/Lab_3_EDA.ipynb\" target=\"_parent\"><img src=\"https://colab.research.google.com/assets/colab-badge.svg\" alt=\"Open In Colab\"/></a>"
      ]
    },
    {
      "cell_type": "markdown",
      "metadata": {
        "id": "x7fdTGs4SnyS",
        "colab_type": "text"
      },
      "source": [
        "![](https://i.imgur.com/0AUxkXt.png)"
      ]
    },
    {
      "cell_type": "markdown",
      "metadata": {
        "id": "_uqy69P0Pm0L",
        "colab_type": "text"
      },
      "source": [
        "# Lab 3 - From data to insights\n",
        "\n",
        "Before you explore the data, write down a short list of what you expect to see in the data: the distribution of key variables, the relationships between important pairs of them, and so on. Such a list is essentially a prediction based on your current understanding of the business.\n",
        "\n",
        "Now analyze the data. Make plots, do summaries, whatever is needed to see if it matches your expectations.\n",
        "\n",
        "Is there anything that doesn’t match? Anything that makes you go “That’s odd” or “That doesn’t make any sense.”?\n",
        "\n",
        "Zoom in and try to understand what in your business is making that weird thing show up in the data like that. This is the critical step.\n",
        "\n",
        "You may have just found an insight into the business and increased your understanding\n",
        "\n",
        "\n",
        "## The data analysis checklist\n",
        "\n",
        "This checklist can be used as a guide during the process of a data analysis, or as a way to evaluate the quality of a reported data analysis.\n",
        "\n",
        "### Answering the first questions\n",
        "\n",
        "1. Did you define the metric for success before beginning?\n",
        "2. Did you understand the context for the question and business application?\n",
        "3. Did you consider whether the question could be answered with the available data?\n",
        "\n",
        "### Cleaning the data\n",
        "\n",
        "1. Did you identify the missing data?\n",
        "2. Is each variable one column?\n",
        "3. Do different data types appear in each table?\n",
        "4. Did you try to identify any errors or miscoding of variables?\n",
        "5. Did you check for outliers?\n",
        "\n",
        "### Exploratory analysis\n",
        "\n",
        "1. Did you make univariate plots (histogram, distplot, boxplot)?\n",
        "2. Did you consider correlations between variables (scatterplot, jointplot, kde plot, correlation matrix)?\n",
        "3. Did you check the units of all data points to make sure they are in the right range?\n",
        "\n",
        "### Presentations\n",
        "\n",
        "1. Did you lead with a brief, understandable to everyone of your problem?\n",
        "2. Did you explain the data, describe the question of interest?\n",
        "3. Did you make sure all legends and axes were legible from the back of the room?"
      ]
    },
    {
      "cell_type": "markdown",
      "metadata": {
        "id": "ZBc0glanPm0M",
        "colab_type": "text"
      },
      "source": [
        "## Example - San Francisco city employee salary data\n",
        "\n",
        "One way to understand how a city government works is by looking at who it employs and how its employees are compensated. This data contains the names, job title, and compensation for San Francisco city employees on an annual basis from 2011 to 2014.\n",
        "\n",
        "\n",
        "### Step 1 - Exploration Ideas\n",
        "\n",
        "1. How have salaries changed over time between different groups of people?\n",
        "2. How are base pay, overtime pay, and benefits allocated between different groups?\n",
        "4. How is budget allocated based on different groups and responsibilities?\n",
        "\n",
        "### Step 2 - Checking the data\n",
        "\n",
        "**Import tools set**"
      ]
    },
    {
      "cell_type": "code",
      "metadata": {
        "id": "9Cx3LXxfPm0N",
        "colab_type": "code",
        "colab": {}
      },
      "source": [
        "import numpy as np\n",
        "import pandas as pd\n",
        "import seaborn as sns\n",
        "import matplotlib.pyplot as plt\n",
        "%matplotlib inline\n",
        "import warnings\n",
        "warnings.filterwarnings('ignore')\n",
        "\n",
        "sns.set_style(\"whitegrid\")"
      ],
      "execution_count": 0,
      "outputs": []
    },
    {
      "cell_type": "markdown",
      "metadata": {
        "id": "mFTQu0j6Pm0Q",
        "colab_type": "text"
      },
      "source": [
        "**Import data**"
      ]
    },
    {
      "cell_type": "code",
      "metadata": {
        "id": "w0YVchrVPm0R",
        "colab_type": "code",
        "outputId": "b868ef62-3a56-42ab-c143-2d5c81c5e950",
        "colab": {
          "base_uri": "https://localhost:8080/",
          "height": 188
        }
      },
      "source": [
        "# Fill the blanks\n",
        "# Load the data from https://ml101-khanhnguyen.s3-ap-southeast-1.amazonaws.com/devc/Salaries.csv into `sal` variable\n",
        "sal \n"
      ],
      "execution_count": 0,
      "outputs": [
        {
          "output_type": "error",
          "ename": "NameError",
          "evalue": "ignored",
          "traceback": [
            "\u001b[0;31m---------------------------------------------------------------------------\u001b[0m",
            "\u001b[0;31mNameError\u001b[0m                                 Traceback (most recent call last)",
            "\u001b[0;32m<ipython-input-1-cf53051b2678>\u001b[0m in \u001b[0;36m<module>\u001b[0;34m()\u001b[0m\n\u001b[0;32m----> 1\u001b[0;31m \u001b[0msal\u001b[0m\u001b[0;34m\u001b[0m\u001b[0;34m\u001b[0m\u001b[0m\n\u001b[0m",
            "\u001b[0;31mNameError\u001b[0m: name 'sal' is not defined"
          ]
        }
      ]
    },
    {
      "cell_type": "markdown",
      "metadata": {
        "id": "6nU6CxSjPm0U",
        "colab_type": "text"
      },
      "source": [
        "**Check out head(), sample(), info(), describe()**"
      ]
    },
    {
      "cell_type": "code",
      "metadata": {
        "id": "v_BKYV2qPm0V",
        "colab_type": "code",
        "colab": {}
      },
      "source": [
        "sal.head()"
      ],
      "execution_count": 0,
      "outputs": []
    },
    {
      "cell_type": "code",
      "metadata": {
        "id": "OjLrS9wlPm0a",
        "colab_type": "code",
        "colab": {}
      },
      "source": [
        "# Fix the error\n",
        "sal.sample[5]"
      ],
      "execution_count": 0,
      "outputs": []
    },
    {
      "cell_type": "code",
      "metadata": {
        "id": "AQ25O59kPm0d",
        "colab_type": "code",
        "colab": {}
      },
      "source": [
        "# Fix the error\n",
        "sal.infos()"
      ],
      "execution_count": 0,
      "outputs": []
    },
    {
      "cell_type": "code",
      "metadata": {
        "id": "oL4V7oDyPm0h",
        "colab_type": "code",
        "colab": {}
      },
      "source": [
        "# Fix the error\n",
        "sal.description()"
      ],
      "execution_count": 0,
      "outputs": []
    },
    {
      "cell_type": "markdown",
      "metadata": {
        "id": "wY6yv3UsPm0k",
        "colab_type": "text"
      },
      "source": [
        "### Step 3 - Cleaning the data\n",
        "\n",
        "Few of useful data cleaning functions:\n",
        "\n",
        "* `s.astype('category')` # This will convert the datatype of the series to float *Please note that \"s\" here is a Pandas Series\n",
        "\n",
        "* `s.replace(1,'one')` # This will replace all values equal to 1 with 'one'\n",
        "\n",
        "* `s.replace([1,3],['one','three'])` # This will replace all 1 with 'one' and 3 with 'three'\n",
        "\n",
        "* `data.rename(columns=lambda x: x + 1)` # Mass renaming of columns\n",
        "\n",
        "* `data.rename(columns={'oldname': 'new name'})` # Selective renaming\n",
        "\n",
        "* `data.set_index('column_one')` #  This will change the index\n",
        "\n",
        "* `data.rename(index=lambda x: x + 1)` # Mass renaming of index\n",
        "\n",
        "* `data.dropna()` # Remove missing values\n",
        "\n",
        "* `data.fillna(x)` #  This will replaces all null values with x\n",
        "\n",
        "* `s.fillna(s.mean())` # This will replace all null values with the mean (mean can be replaced with almost any function from the below section) :\n",
        "\n",
        "* `data.corr()` # This will return the correlation between columns in a DataFrame\n",
        "\n",
        "* `data.count()` # This will return the number of non-null values in each DataFrame column\n",
        "\n",
        "* `data.max()` # This will return the highest value in each column\n",
        "\n",
        "* `data.min()` # This will return the lowest value in each column\n",
        "\n",
        "* `data.median()` # This will return the median of each column\n",
        "\n",
        "* `data.std()` # This will returns the standard deviation of each column\n"
      ]
    },
    {
      "cell_type": "markdown",
      "metadata": {
        "id": "e5NuNcPscq9x",
        "colab_type": "text"
      },
      "source": [
        "**Check duplication in columns in which the data must be unique**"
      ]
    },
    {
      "cell_type": "code",
      "metadata": {
        "id": "GPIDpsygPm0l",
        "colab_type": "code",
        "colab": {}
      },
      "source": [
        "# Id must be unique\n",
        "# So the number of unique values must be equal the number of rows\n",
        "# Fill the blanks\n",
        "sal['Id'].___() == ___.___()"
      ],
      "execution_count": 0,
      "outputs": []
    },
    {
      "cell_type": "markdown",
      "metadata": {
        "id": "1cmMLYR5fsGl",
        "colab_type": "text"
      },
      "source": [
        "**Change the type to category**"
      ]
    },
    {
      "cell_type": "code",
      "metadata": {
        "id": "LtaeNb4yPm0p",
        "colab_type": "code",
        "colab": {}
      },
      "source": [
        "sal['Id'] = sal['Id'].astype('category')\n",
        "\n",
        "# Change Year to be a categorical variable too\n",
        "# Your code here\n"
      ],
      "execution_count": 0,
      "outputs": []
    },
    {
      "cell_type": "markdown",
      "metadata": {
        "id": "VSVoX1K3Pm0s",
        "colab_type": "text"
      },
      "source": [
        "**Drop unnecessary columns**"
      ]
    },
    {
      "cell_type": "code",
      "metadata": {
        "id": "RHV8TMa1Pm0t",
        "colab_type": "code",
        "colab": {}
      },
      "source": [
        "# Look at the info() again, which columns you can drop immediately?\n",
        "# Fill the blanks\n",
        "sal.drop(columns=['___', '___'], inplace=True)"
      ],
      "execution_count": 0,
      "outputs": []
    },
    {
      "cell_type": "code",
      "metadata": {
        "id": "xCvrYvQMPm0w",
        "colab_type": "code",
        "colab": {}
      },
      "source": [
        "# Are there any other columns that don't bring us much information?\n",
        "# Drop them coldbloodedly\n",
        "# Your code here"
      ],
      "execution_count": 0,
      "outputs": []
    },
    {
      "cell_type": "code",
      "metadata": {
        "id": "-Aykt_CoPm02",
        "colab_type": "code",
        "colab": {}
      },
      "source": [
        "# Check again with info()\n",
        "# Your code here"
      ],
      "execution_count": 0,
      "outputs": []
    },
    {
      "cell_type": "markdown",
      "metadata": {
        "id": "rcNsGWarPm06",
        "colab_type": "text"
      },
      "source": [
        "**Check for NaN values**"
      ]
    },
    {
      "cell_type": "code",
      "metadata": {
        "id": "TqLxHGy2Pm06",
        "colab_type": "code",
        "outputId": "bfbd881f-74a6-44aa-8f95-9ace2fea2902",
        "colab": {}
      },
      "source": [
        "# Fill the blank\n",
        "sal.___().sum()"
      ],
      "execution_count": 0,
      "outputs": [
        {
          "output_type": "execute_result",
          "data": {
            "text/plain": [
              "Id                      0\n",
              "EmployeeName            0\n",
              "JobTitle                0\n",
              "BasePay               609\n",
              "OvertimePay             4\n",
              "OtherPay                4\n",
              "Benefits            36163\n",
              "TotalPay                0\n",
              "TotalPayBenefits        0\n",
              "Year                    0\n",
              "dtype: int64"
            ]
          },
          "metadata": {
            "tags": []
          },
          "execution_count": 233
        }
      ]
    },
    {
      "cell_type": "markdown",
      "metadata": {
        "id": "RdhPk_x1Pm0-",
        "colab_type": "text"
      },
      "source": [
        "**Examine few examples of NaN values**"
      ]
    },
    {
      "cell_type": "code",
      "metadata": {
        "id": "3kGYpbdOPm0-",
        "colab_type": "code",
        "outputId": "d0495bb5-2fdf-4027-fb8f-21a973457529",
        "colab": {}
      },
      "source": [
        "# List all NaN values of OtherPay\n",
        "# Fill the blanks\n",
        "sal[___['___'].isnull()]"
      ],
      "execution_count": 0,
      "outputs": [
        {
          "output_type": "execute_result",
          "data": {
            "text/html": [
              "<div>\n",
              "<style scoped>\n",
              "    .dataframe tbody tr th:only-of-type {\n",
              "        vertical-align: middle;\n",
              "    }\n",
              "\n",
              "    .dataframe tbody tr th {\n",
              "        vertical-align: top;\n",
              "    }\n",
              "\n",
              "    .dataframe thead th {\n",
              "        text-align: right;\n",
              "    }\n",
              "</style>\n",
              "<table border=\"1\" class=\"dataframe\">\n",
              "  <thead>\n",
              "    <tr style=\"text-align: right;\">\n",
              "      <th></th>\n",
              "      <th>Id</th>\n",
              "      <th>EmployeeName</th>\n",
              "      <th>JobTitle</th>\n",
              "      <th>BasePay</th>\n",
              "      <th>OvertimePay</th>\n",
              "      <th>OtherPay</th>\n",
              "      <th>Benefits</th>\n",
              "      <th>TotalPay</th>\n",
              "      <th>TotalPayBenefits</th>\n",
              "      <th>Year</th>\n",
              "    </tr>\n",
              "  </thead>\n",
              "  <tbody>\n",
              "    <tr>\n",
              "      <th>148646</th>\n",
              "      <td>148647</td>\n",
              "      <td>Not provided</td>\n",
              "      <td>Not provided</td>\n",
              "      <td>NaN</td>\n",
              "      <td>NaN</td>\n",
              "      <td>NaN</td>\n",
              "      <td>NaN</td>\n",
              "      <td>0.0</td>\n",
              "      <td>0.0</td>\n",
              "      <td>2014</td>\n",
              "    </tr>\n",
              "    <tr>\n",
              "      <th>148650</th>\n",
              "      <td>148651</td>\n",
              "      <td>Not provided</td>\n",
              "      <td>Not provided</td>\n",
              "      <td>NaN</td>\n",
              "      <td>NaN</td>\n",
              "      <td>NaN</td>\n",
              "      <td>NaN</td>\n",
              "      <td>0.0</td>\n",
              "      <td>0.0</td>\n",
              "      <td>2014</td>\n",
              "    </tr>\n",
              "    <tr>\n",
              "      <th>148651</th>\n",
              "      <td>148652</td>\n",
              "      <td>Not provided</td>\n",
              "      <td>Not provided</td>\n",
              "      <td>NaN</td>\n",
              "      <td>NaN</td>\n",
              "      <td>NaN</td>\n",
              "      <td>NaN</td>\n",
              "      <td>0.0</td>\n",
              "      <td>0.0</td>\n",
              "      <td>2014</td>\n",
              "    </tr>\n",
              "    <tr>\n",
              "      <th>148652</th>\n",
              "      <td>148653</td>\n",
              "      <td>Not provided</td>\n",
              "      <td>Not provided</td>\n",
              "      <td>NaN</td>\n",
              "      <td>NaN</td>\n",
              "      <td>NaN</td>\n",
              "      <td>NaN</td>\n",
              "      <td>0.0</td>\n",
              "      <td>0.0</td>\n",
              "      <td>2014</td>\n",
              "    </tr>\n",
              "  </tbody>\n",
              "</table>\n",
              "</div>"
            ],
            "text/plain": [
              "            Id  EmployeeName      JobTitle  BasePay  OvertimePay  OtherPay  \\\n",
              "148646  148647  Not provided  Not provided      NaN          NaN       NaN   \n",
              "148650  148651  Not provided  Not provided      NaN          NaN       NaN   \n",
              "148651  148652  Not provided  Not provided      NaN          NaN       NaN   \n",
              "148652  148653  Not provided  Not provided      NaN          NaN       NaN   \n",
              "\n",
              "        Benefits  TotalPay  TotalPayBenefits  Year  \n",
              "148646       NaN       0.0               0.0  2014  \n",
              "148650       NaN       0.0               0.0  2014  \n",
              "148651       NaN       0.0               0.0  2014  \n",
              "148652       NaN       0.0               0.0  2014  "
            ]
          },
          "metadata": {
            "tags": []
          },
          "execution_count": 234
        }
      ]
    },
    {
      "cell_type": "markdown",
      "metadata": {
        "id": "pNv3autOjiFj",
        "colab_type": "text"
      },
      "source": [
        "**Drop missing values of OtherPay and OvertimePay**"
      ]
    },
    {
      "cell_type": "code",
      "metadata": {
        "id": "ZDgbdnlhPm1C",
        "colab_type": "code",
        "colab": {}
      },
      "source": [
        "# Option 1\n",
        "# sal.drop(labels=[148646, 148650, 148651, 148652], axis=0)\n",
        "\n",
        "# Something cooler\n",
        "# Solution: Select data that OtherPay is not null and assign it to the dataframe 'sal'\n",
        "# Your code here"
      ],
      "execution_count": 0,
      "outputs": []
    },
    {
      "cell_type": "markdown",
      "metadata": {
        "id": "E8C8-rJ6kb5A",
        "colab_type": "text"
      },
      "source": [
        "**Analize missing values of BasePay and Benefits**"
      ]
    },
    {
      "cell_type": "code",
      "metadata": {
        "id": "auarSm-bPm1G",
        "colab_type": "code",
        "outputId": "4e3fa729-1a17-4ed8-93b1-79b0d1e4765e",
        "colab": {}
      },
      "source": [
        "# Select 5 sample of data that BasePay is null\n",
        "# Your code here"
      ],
      "execution_count": 0,
      "outputs": [
        {
          "output_type": "execute_result",
          "data": {
            "text/html": [
              "<div>\n",
              "<style scoped>\n",
              "    .dataframe tbody tr th:only-of-type {\n",
              "        vertical-align: middle;\n",
              "    }\n",
              "\n",
              "    .dataframe tbody tr th {\n",
              "        vertical-align: top;\n",
              "    }\n",
              "\n",
              "    .dataframe thead th {\n",
              "        text-align: right;\n",
              "    }\n",
              "</style>\n",
              "<table border=\"1\" class=\"dataframe\">\n",
              "  <thead>\n",
              "    <tr style=\"text-align: right;\">\n",
              "      <th></th>\n",
              "      <th>Id</th>\n",
              "      <th>EmployeeName</th>\n",
              "      <th>JobTitle</th>\n",
              "      <th>BasePay</th>\n",
              "      <th>OvertimePay</th>\n",
              "      <th>OtherPay</th>\n",
              "      <th>Benefits</th>\n",
              "      <th>TotalPay</th>\n",
              "      <th>TotalPayBenefits</th>\n",
              "      <th>Year</th>\n",
              "    </tr>\n",
              "  </thead>\n",
              "  <tbody>\n",
              "    <tr>\n",
              "      <th>81391</th>\n",
              "      <td>81392</td>\n",
              "      <td>Kevin P Cashman</td>\n",
              "      <td>Deputy Chief 3</td>\n",
              "      <td>NaN</td>\n",
              "      <td>0.0</td>\n",
              "      <td>149934.11</td>\n",
              "      <td>0.00</td>\n",
              "      <td>149934.11</td>\n",
              "      <td>149934.11</td>\n",
              "      <td>2013</td>\n",
              "    </tr>\n",
              "    <tr>\n",
              "      <th>84506</th>\n",
              "      <td>84507</td>\n",
              "      <td>Demetrya  Mullens</td>\n",
              "      <td>Licensed Vocational Nurse</td>\n",
              "      <td>NaN</td>\n",
              "      <td>0.0</td>\n",
              "      <td>110485.41</td>\n",
              "      <td>20779.00</td>\n",
              "      <td>110485.41</td>\n",
              "      <td>131264.41</td>\n",
              "      <td>2013</td>\n",
              "    </tr>\n",
              "    <tr>\n",
              "      <th>84960</th>\n",
              "      <td>84961</td>\n",
              "      <td>Michael M Horan</td>\n",
              "      <td>Park Patrol Officer</td>\n",
              "      <td>NaN</td>\n",
              "      <td>0.0</td>\n",
              "      <td>120000.00</td>\n",
              "      <td>8841.48</td>\n",
              "      <td>120000.00</td>\n",
              "      <td>128841.48</td>\n",
              "      <td>2013</td>\n",
              "    </tr>\n",
              "    <tr>\n",
              "      <th>90525</th>\n",
              "      <td>90526</td>\n",
              "      <td>Thomas  Tang</td>\n",
              "      <td>Police Officer 3</td>\n",
              "      <td>NaN</td>\n",
              "      <td>0.0</td>\n",
              "      <td>106079.31</td>\n",
              "      <td>0.00</td>\n",
              "      <td>106079.31</td>\n",
              "      <td>106079.31</td>\n",
              "      <td>2013</td>\n",
              "    </tr>\n",
              "    <tr>\n",
              "      <th>90786</th>\n",
              "      <td>90787</td>\n",
              "      <td>Michael C Hill</td>\n",
              "      <td>Deputy Sheriff</td>\n",
              "      <td>NaN</td>\n",
              "      <td>0.0</td>\n",
              "      <td>81299.02</td>\n",
              "      <td>23877.53</td>\n",
              "      <td>81299.02</td>\n",
              "      <td>105176.55</td>\n",
              "      <td>2013</td>\n",
              "    </tr>\n",
              "  </tbody>\n",
              "</table>\n",
              "</div>"
            ],
            "text/plain": [
              "          Id       EmployeeName                   JobTitle  BasePay  \\\n",
              "81391  81392    Kevin P Cashman             Deputy Chief 3      NaN   \n",
              "84506  84507  Demetrya  Mullens  Licensed Vocational Nurse      NaN   \n",
              "84960  84961    Michael M Horan        Park Patrol Officer      NaN   \n",
              "90525  90526       Thomas  Tang           Police Officer 3      NaN   \n",
              "90786  90787     Michael C Hill             Deputy Sheriff      NaN   \n",
              "\n",
              "       OvertimePay   OtherPay  Benefits   TotalPay  TotalPayBenefits  Year  \n",
              "81391          0.0  149934.11      0.00  149934.11         149934.11  2013  \n",
              "84506          0.0  110485.41  20779.00  110485.41         131264.41  2013  \n",
              "84960          0.0  120000.00   8841.48  120000.00         128841.48  2013  \n",
              "90525          0.0  106079.31      0.00  106079.31         106079.31  2013  \n",
              "90786          0.0   81299.02  23877.53   81299.02         105176.55  2013  "
            ]
          },
          "metadata": {
            "tags": []
          },
          "execution_count": 236
        }
      ]
    },
    {
      "cell_type": "markdown",
      "metadata": {
        "id": "LI8UuvPePm1J",
        "colab_type": "text"
      },
      "source": [
        "**For BasePay and Benefits, it is clear that NaN values are zeroes (from TotalPay and TotalPayBenefits).**\n",
        "\n",
        "**So, simply fill NaN values with 0**"
      ]
    },
    {
      "cell_type": "code",
      "metadata": {
        "id": "weJT0fK1Pm1K",
        "colab_type": "code",
        "colab": {}
      },
      "source": [
        "# Fill the blanks\n",
        "sal['Benefits'].___(value=__, inplace=True)"
      ],
      "execution_count": 0,
      "outputs": []
    },
    {
      "cell_type": "code",
      "metadata": {
        "id": "CtY8mxaJPm1N",
        "colab_type": "code",
        "colab": {}
      },
      "source": [
        "# Fill the blanks\n",
        "sal['___'].___(___=___,inplace=True)"
      ],
      "execution_count": 0,
      "outputs": []
    },
    {
      "cell_type": "code",
      "metadata": {
        "id": "6r011Nm-Pm1Q",
        "colab_type": "code",
        "outputId": "069409cd-f132-4746-fdcc-4a4a20d7098a",
        "colab": {}
      },
      "source": [
        "# Let check for NaN values again\n",
        "# Your code here"
      ],
      "execution_count": 0,
      "outputs": [
        {
          "output_type": "execute_result",
          "data": {
            "text/plain": [
              "Id                  0\n",
              "EmployeeName        0\n",
              "JobTitle            0\n",
              "BasePay             0\n",
              "OvertimePay         0\n",
              "OtherPay            0\n",
              "Benefits            0\n",
              "TotalPay            0\n",
              "TotalPayBenefits    0\n",
              "Year                0\n",
              "dtype: int64"
            ]
          },
          "metadata": {
            "tags": []
          },
          "execution_count": 239
        }
      ]
    },
    {
      "cell_type": "markdown",
      "metadata": {
        "id": "4OJQFuzhPm1T",
        "colab_type": "text"
      },
      "source": [
        "**Min values of some payments are negative. Let's check it out**"
      ]
    },
    {
      "cell_type": "code",
      "metadata": {
        "id": "DS8XEj1UPm1U",
        "colab_type": "code",
        "outputId": "d988d6d2-3938-4f7c-ae65-03f2c5d85b44",
        "colab": {}
      },
      "source": [
        "# Select data that has negative TotalPay or TotalPayBenefits\n"
      ],
      "execution_count": 0,
      "outputs": [
        {
          "output_type": "execute_result",
          "data": {
            "text/html": [
              "<div>\n",
              "<style scoped>\n",
              "    .dataframe tbody tr th:only-of-type {\n",
              "        vertical-align: middle;\n",
              "    }\n",
              "\n",
              "    .dataframe tbody tr th {\n",
              "        vertical-align: top;\n",
              "    }\n",
              "\n",
              "    .dataframe thead th {\n",
              "        text-align: right;\n",
              "    }\n",
              "</style>\n",
              "<table border=\"1\" class=\"dataframe\">\n",
              "  <thead>\n",
              "    <tr style=\"text-align: right;\">\n",
              "      <th></th>\n",
              "      <th>Id</th>\n",
              "      <th>EmployeeName</th>\n",
              "      <th>JobTitle</th>\n",
              "      <th>BasePay</th>\n",
              "      <th>OvertimePay</th>\n",
              "      <th>OtherPay</th>\n",
              "      <th>Benefits</th>\n",
              "      <th>TotalPay</th>\n",
              "      <th>TotalPayBenefits</th>\n",
              "      <th>Year</th>\n",
              "    </tr>\n",
              "  </thead>\n",
              "  <tbody>\n",
              "    <tr>\n",
              "      <th>110528</th>\n",
              "      <td>110529</td>\n",
              "      <td>Timothy E Gibson</td>\n",
              "      <td>Police Officer 3</td>\n",
              "      <td>0.0</td>\n",
              "      <td>0.0</td>\n",
              "      <td>0.00</td>\n",
              "      <td>-2.73</td>\n",
              "      <td>0.00</td>\n",
              "      <td>-2.73</td>\n",
              "      <td>2013</td>\n",
              "    </tr>\n",
              "    <tr>\n",
              "      <th>110529</th>\n",
              "      <td>110530</td>\n",
              "      <td>Mark E Laherty</td>\n",
              "      <td>Police Officer 3</td>\n",
              "      <td>0.0</td>\n",
              "      <td>0.0</td>\n",
              "      <td>0.00</td>\n",
              "      <td>-8.20</td>\n",
              "      <td>0.00</td>\n",
              "      <td>-8.20</td>\n",
              "      <td>2013</td>\n",
              "    </tr>\n",
              "    <tr>\n",
              "      <th>110530</th>\n",
              "      <td>110531</td>\n",
              "      <td>David P Kucia</td>\n",
              "      <td>Police Officer 3</td>\n",
              "      <td>0.0</td>\n",
              "      <td>0.0</td>\n",
              "      <td>0.00</td>\n",
              "      <td>-33.89</td>\n",
              "      <td>0.00</td>\n",
              "      <td>-33.89</td>\n",
              "      <td>2013</td>\n",
              "    </tr>\n",
              "    <tr>\n",
              "      <th>148653</th>\n",
              "      <td>148654</td>\n",
              "      <td>Joe Lopez</td>\n",
              "      <td>Counselor, Log Cabin Ranch</td>\n",
              "      <td>0.0</td>\n",
              "      <td>0.0</td>\n",
              "      <td>-618.13</td>\n",
              "      <td>0.00</td>\n",
              "      <td>-618.13</td>\n",
              "      <td>-618.13</td>\n",
              "      <td>2014</td>\n",
              "    </tr>\n",
              "  </tbody>\n",
              "</table>\n",
              "</div>"
            ],
            "text/plain": [
              "            Id      EmployeeName                    JobTitle  BasePay  \\\n",
              "110528  110529  Timothy E Gibson            Police Officer 3      0.0   \n",
              "110529  110530    Mark E Laherty            Police Officer 3      0.0   \n",
              "110530  110531     David P Kucia            Police Officer 3      0.0   \n",
              "148653  148654         Joe Lopez  Counselor, Log Cabin Ranch      0.0   \n",
              "\n",
              "        OvertimePay  OtherPay  Benefits  TotalPay  TotalPayBenefits  Year  \n",
              "110528          0.0      0.00     -2.73      0.00             -2.73  2013  \n",
              "110529          0.0      0.00     -8.20      0.00             -8.20  2013  \n",
              "110530          0.0      0.00    -33.89      0.00            -33.89  2013  \n",
              "148653          0.0   -618.13      0.00   -618.13           -618.13  2014  "
            ]
          },
          "metadata": {
            "tags": []
          },
          "execution_count": 240
        }
      ]
    },
    {
      "cell_type": "markdown",
      "metadata": {
        "id": "9w7-ugL0mQPC",
        "colab_type": "text"
      },
      "source": [
        "**There are only 4 of them, we can safely drop these data**"
      ]
    },
    {
      "cell_type": "code",
      "metadata": {
        "id": "2SfJWB9qPm1X",
        "colab_type": "code",
        "colab": {}
      },
      "source": [
        "# Your code here\n"
      ],
      "execution_count": 0,
      "outputs": []
    },
    {
      "cell_type": "markdown",
      "metadata": {
        "id": "mPny_KZsPm1Z",
        "colab_type": "text"
      },
      "source": [
        "**Identify any errors or miscoding of variables**"
      ]
    },
    {
      "cell_type": "code",
      "metadata": {
        "id": "9K85MLVzPm1Z",
        "colab_type": "code",
        "outputId": "8f8c03bc-7035-4d05-cf78-627681812af5",
        "colab": {}
      },
      "source": [
        "# Check the unique values of Year\n",
        "# Your code here"
      ],
      "execution_count": 0,
      "outputs": [
        {
          "output_type": "execute_result",
          "data": {
            "text/plain": [
              "[2011, 2012, 2013, 2014]\n",
              "Categories (4, int64): [2011, 2012, 2013, 2014]"
            ]
          },
          "metadata": {
            "tags": []
          },
          "execution_count": 242
        }
      ]
    },
    {
      "cell_type": "markdown",
      "metadata": {
        "id": "c56z5tkKPm1c",
        "colab_type": "text"
      },
      "source": [
        "Check duplication"
      ]
    },
    {
      "cell_type": "code",
      "metadata": {
        "id": "_JW2GOxIPm1c",
        "colab_type": "code",
        "colab": {}
      },
      "source": [
        "# Apply strip() on EmployeeName and Jobtitle \n",
        "# to remove all the leading and trailing spaces\n",
        "# Fill the blanks\n",
        "sal['EmployeeName'] = sal['___'].___.strip()\n",
        "sal['JobTitle'] = sal['___'].___.strip()"
      ],
      "execution_count": 0,
      "outputs": []
    },
    {
      "cell_type": "code",
      "metadata": {
        "id": "ZCl0vCkbPm1e",
        "colab_type": "code",
        "outputId": "daae2c76-f1b6-4979-8d8b-c07d2ba8fe83",
        "colab": {}
      },
      "source": [
        "# Check the number of unique value of EmployeeName\n",
        "sal['EmployeeName'].nunique()"
      ],
      "execution_count": 0,
      "outputs": [
        {
          "output_type": "execute_result",
          "data": {
            "text/plain": [
              "110810"
            ]
          },
          "metadata": {
            "tags": []
          },
          "execution_count": 244
        }
      ]
    },
    {
      "cell_type": "code",
      "metadata": {
        "id": "AjoEmOqOPm1i",
        "colab_type": "code",
        "outputId": "e269ff67-c569-43d7-d04d-3177bd77e392",
        "colab": {}
      },
      "source": [
        "# Check the number of unique value of EmployeeName in lower case\n",
        "# Fill the blanks\n",
        "sal['EmployeeName'].___.lower().___()"
      ],
      "execution_count": 0,
      "outputs": [
        {
          "output_type": "execute_result",
          "data": {
            "text/plain": [
              "80459"
            ]
          },
          "metadata": {
            "tags": []
          },
          "execution_count": 245
        }
      ]
    },
    {
      "cell_type": "code",
      "metadata": {
        "id": "xkHpzbNpPm1l",
        "colab_type": "code",
        "outputId": "1b23b309-eec6-4477-be02-a2fb21d63371",
        "colab": {}
      },
      "source": [
        "# Do the same with JobTitle\n",
        "# Fill the blank\n",
        "print(sal['JobTitle'].___())\n",
        "print(sal['JobTitle'].___.lower().___())"
      ],
      "execution_count": 0,
      "outputs": [
        {
          "output_type": "execute_result",
          "data": {
            "text/plain": [
              "2158"
            ]
          },
          "metadata": {
            "tags": []
          },
          "execution_count": 246
        }
      ]
    },
    {
      "cell_type": "code",
      "metadata": {
        "id": "jpt9F8hoPm1o",
        "colab_type": "code",
        "outputId": "dd434f6e-0378-4b3a-863e-d68ad218ba05",
        "colab": {}
      },
      "source": [
        ""
      ],
      "execution_count": 0,
      "outputs": [
        {
          "output_type": "execute_result",
          "data": {
            "text/plain": [
              "1636"
            ]
          },
          "metadata": {
            "tags": []
          },
          "execution_count": 247
        }
      ]
    },
    {
      "cell_type": "code",
      "metadata": {
        "id": "-JLeksePPm1r",
        "colab_type": "code",
        "outputId": "fb7ca68b-879b-46da-ca10-8e7fdc224ab9",
        "colab": {}
      },
      "source": [
        "# Select the most common name\n",
        "# Something wrong, fix the error\n",
        "names = sal['EmployeeNames'].str.lower().value_counts()\n",
        "sample = names[names > 1].head(1).index\n",
        "sal[sal['EmployeeNames'].str.lower().isin(samples)]"
      ],
      "execution_count": 0,
      "outputs": [
        {
          "output_type": "execute_result",
          "data": {
            "text/html": [
              "<div>\n",
              "<style scoped>\n",
              "    .dataframe tbody tr th:only-of-type {\n",
              "        vertical-align: middle;\n",
              "    }\n",
              "\n",
              "    .dataframe tbody tr th {\n",
              "        vertical-align: top;\n",
              "    }\n",
              "\n",
              "    .dataframe thead th {\n",
              "        text-align: right;\n",
              "    }\n",
              "</style>\n",
              "<table border=\"1\" class=\"dataframe\">\n",
              "  <thead>\n",
              "    <tr style=\"text-align: right;\">\n",
              "      <th></th>\n",
              "      <th>Id</th>\n",
              "      <th>EmployeeName</th>\n",
              "      <th>JobTitle</th>\n",
              "      <th>BasePay</th>\n",
              "      <th>OvertimePay</th>\n",
              "      <th>OtherPay</th>\n",
              "      <th>Benefits</th>\n",
              "      <th>TotalPay</th>\n",
              "      <th>TotalPayBenefits</th>\n",
              "      <th>Year</th>\n",
              "    </tr>\n",
              "  </thead>\n",
              "  <tbody>\n",
              "    <tr>\n",
              "      <th>3824</th>\n",
              "      <td>3825</td>\n",
              "      <td>KEVIN LEE</td>\n",
              "      <td>POLICE OFFICER III</td>\n",
              "      <td>112401.08</td>\n",
              "      <td>19374.72</td>\n",
              "      <td>1062.10</td>\n",
              "      <td>0.00</td>\n",
              "      <td>132837.90</td>\n",
              "      <td>132837.90</td>\n",
              "      <td>2011</td>\n",
              "    </tr>\n",
              "    <tr>\n",
              "      <th>4036</th>\n",
              "      <td>4037</td>\n",
              "      <td>KEVIN LEE</td>\n",
              "      <td>POLICE OFFICER II</td>\n",
              "      <td>108000.94</td>\n",
              "      <td>17468.40</td>\n",
              "      <td>6025.54</td>\n",
              "      <td>0.00</td>\n",
              "      <td>131494.88</td>\n",
              "      <td>131494.88</td>\n",
              "      <td>2011</td>\n",
              "    </tr>\n",
              "    <tr>\n",
              "      <th>5279</th>\n",
              "      <td>5280</td>\n",
              "      <td>KEVIN LEE</td>\n",
              "      <td>ELECTRICAL TRANSIT SYSTEM MECHANIC</td>\n",
              "      <td>77580.68</td>\n",
              "      <td>36378.97</td>\n",
              "      <td>8858.96</td>\n",
              "      <td>0.00</td>\n",
              "      <td>122818.61</td>\n",
              "      <td>122818.61</td>\n",
              "      <td>2011</td>\n",
              "    </tr>\n",
              "    <tr>\n",
              "      <th>13169</th>\n",
              "      <td>13170</td>\n",
              "      <td>KEVIN LEE</td>\n",
              "      <td>DEPUTY COURT CLERK III</td>\n",
              "      <td>83693.01</td>\n",
              "      <td>0.00</td>\n",
              "      <td>609.60</td>\n",
              "      <td>0.00</td>\n",
              "      <td>84302.61</td>\n",
              "      <td>84302.61</td>\n",
              "      <td>2011</td>\n",
              "    </tr>\n",
              "    <tr>\n",
              "      <th>13419</th>\n",
              "      <td>13420</td>\n",
              "      <td>KEVIN LEE</td>\n",
              "      <td>DEPUTY COURT CLERK III</td>\n",
              "      <td>83560.00</td>\n",
              "      <td>0.00</td>\n",
              "      <td>0.00</td>\n",
              "      <td>0.00</td>\n",
              "      <td>83560.00</td>\n",
              "      <td>83560.00</td>\n",
              "      <td>2011</td>\n",
              "    </tr>\n",
              "    <tr>\n",
              "      <th>15312</th>\n",
              "      <td>15313</td>\n",
              "      <td>KEVIN LEE</td>\n",
              "      <td>PERSONNEL ANALYST</td>\n",
              "      <td>76786.31</td>\n",
              "      <td>0.00</td>\n",
              "      <td>0.00</td>\n",
              "      <td>0.00</td>\n",
              "      <td>76786.31</td>\n",
              "      <td>76786.31</td>\n",
              "      <td>2011</td>\n",
              "    </tr>\n",
              "    <tr>\n",
              "      <th>17163</th>\n",
              "      <td>17164</td>\n",
              "      <td>KEVIN LEE</td>\n",
              "      <td>SENIOR PARKING CONTROL OFFICER</td>\n",
              "      <td>65324.60</td>\n",
              "      <td>4944.02</td>\n",
              "      <td>686.93</td>\n",
              "      <td>0.00</td>\n",
              "      <td>70955.55</td>\n",
              "      <td>70955.55</td>\n",
              "      <td>2011</td>\n",
              "    </tr>\n",
              "    <tr>\n",
              "      <th>17646</th>\n",
              "      <td>17647</td>\n",
              "      <td>KEVIN LEE</td>\n",
              "      <td>IS ADMINISTRATOR II</td>\n",
              "      <td>66349.74</td>\n",
              "      <td>718.23</td>\n",
              "      <td>2325.47</td>\n",
              "      <td>0.00</td>\n",
              "      <td>69393.44</td>\n",
              "      <td>69393.44</td>\n",
              "      <td>2011</td>\n",
              "    </tr>\n",
              "    <tr>\n",
              "      <th>27053</th>\n",
              "      <td>27054</td>\n",
              "      <td>KEVIN LEE</td>\n",
              "      <td>TRANSIT OPERATOR</td>\n",
              "      <td>31501.33</td>\n",
              "      <td>5003.46</td>\n",
              "      <td>770.75</td>\n",
              "      <td>0.00</td>\n",
              "      <td>37275.54</td>\n",
              "      <td>37275.54</td>\n",
              "      <td>2011</td>\n",
              "    </tr>\n",
              "    <tr>\n",
              "      <th>39715</th>\n",
              "      <td>39716</td>\n",
              "      <td>Kevin Lee</td>\n",
              "      <td>Police Officer 3</td>\n",
              "      <td>115866.90</td>\n",
              "      <td>23523.30</td>\n",
              "      <td>9313.54</td>\n",
              "      <td>34906.20</td>\n",
              "      <td>148703.74</td>\n",
              "      <td>183609.94</td>\n",
              "      <td>2012</td>\n",
              "    </tr>\n",
              "    <tr>\n",
              "      <th>40570</th>\n",
              "      <td>40571</td>\n",
              "      <td>Kevin Lee</td>\n",
              "      <td>Police Officer 3</td>\n",
              "      <td>117171.41</td>\n",
              "      <td>19606.88</td>\n",
              "      <td>4244.90</td>\n",
              "      <td>34610.10</td>\n",
              "      <td>141023.19</td>\n",
              "      <td>175633.29</td>\n",
              "      <td>2012</td>\n",
              "    </tr>\n",
              "    <tr>\n",
              "      <th>42510</th>\n",
              "      <td>42511</td>\n",
              "      <td>Kevin Lee</td>\n",
              "      <td>Electrical Transit System Mech</td>\n",
              "      <td>79220.54</td>\n",
              "      <td>40247.39</td>\n",
              "      <td>3353.49</td>\n",
              "      <td>38781.04</td>\n",
              "      <td>122821.42</td>\n",
              "      <td>161602.46</td>\n",
              "      <td>2012</td>\n",
              "    </tr>\n",
              "    <tr>\n",
              "      <th>49270</th>\n",
              "      <td>49271</td>\n",
              "      <td>Kevin Lee</td>\n",
              "      <td>Deputy Court Clerk III</td>\n",
              "      <td>84512.32</td>\n",
              "      <td>0.00</td>\n",
              "      <td>1469.99</td>\n",
              "      <td>36080.30</td>\n",
              "      <td>85982.31</td>\n",
              "      <td>122062.61</td>\n",
              "      <td>2012</td>\n",
              "    </tr>\n",
              "    <tr>\n",
              "      <th>49439</th>\n",
              "      <td>49440</td>\n",
              "      <td>Kevin Lee</td>\n",
              "      <td>Deputy Court Clerk III</td>\n",
              "      <td>84512.34</td>\n",
              "      <td>0.00</td>\n",
              "      <td>975.44</td>\n",
              "      <td>35902.02</td>\n",
              "      <td>85487.78</td>\n",
              "      <td>121389.80</td>\n",
              "      <td>2012</td>\n",
              "    </tr>\n",
              "    <tr>\n",
              "      <th>50123</th>\n",
              "      <td>50124</td>\n",
              "      <td>Kevin Lee</td>\n",
              "      <td>Personnel Analyst</td>\n",
              "      <td>83382.00</td>\n",
              "      <td>0.00</td>\n",
              "      <td>0.00</td>\n",
              "      <td>35210.59</td>\n",
              "      <td>83382.00</td>\n",
              "      <td>118592.59</td>\n",
              "      <td>2012</td>\n",
              "    </tr>\n",
              "    <tr>\n",
              "      <th>52233</th>\n",
              "      <td>52234</td>\n",
              "      <td>Kevin Lee</td>\n",
              "      <td>Senior Parking Control Officer</td>\n",
              "      <td>66774.03</td>\n",
              "      <td>9599.08</td>\n",
              "      <td>1092.62</td>\n",
              "      <td>31902.38</td>\n",
              "      <td>77465.73</td>\n",
              "      <td>109368.11</td>\n",
              "      <td>2012</td>\n",
              "    </tr>\n",
              "    <tr>\n",
              "      <th>53931</th>\n",
              "      <td>53932</td>\n",
              "      <td>Kevin Lee</td>\n",
              "      <td>Transit Operator</td>\n",
              "      <td>57397.32</td>\n",
              "      <td>9989.83</td>\n",
              "      <td>1800.48</td>\n",
              "      <td>34577.54</td>\n",
              "      <td>69187.63</td>\n",
              "      <td>103765.17</td>\n",
              "      <td>2012</td>\n",
              "    </tr>\n",
              "    <tr>\n",
              "      <th>55119</th>\n",
              "      <td>55120</td>\n",
              "      <td>Kevin Lee</td>\n",
              "      <td>IS Administrator 2</td>\n",
              "      <td>68940.44</td>\n",
              "      <td>0.00</td>\n",
              "      <td>0.00</td>\n",
              "      <td>30650.48</td>\n",
              "      <td>68940.44</td>\n",
              "      <td>99590.92</td>\n",
              "      <td>2012</td>\n",
              "    </tr>\n",
              "    <tr>\n",
              "      <th>112385</th>\n",
              "      <td>112386</td>\n",
              "      <td>Kevin Lee</td>\n",
              "      <td>Sergeant 3</td>\n",
              "      <td>137982.14</td>\n",
              "      <td>18537.19</td>\n",
              "      <td>16039.62</td>\n",
              "      <td>43039.12</td>\n",
              "      <td>172558.95</td>\n",
              "      <td>215598.07</td>\n",
              "      <td>2014</td>\n",
              "    </tr>\n",
              "    <tr>\n",
              "      <th>123141</th>\n",
              "      <td>123142</td>\n",
              "      <td>Kevin Lee</td>\n",
              "      <td>IT Operations Support Admin IV</td>\n",
              "      <td>91606.03</td>\n",
              "      <td>0.00</td>\n",
              "      <td>1013.00</td>\n",
              "      <td>34109.61</td>\n",
              "      <td>92619.03</td>\n",
              "      <td>126728.64</td>\n",
              "      <td>2014</td>\n",
              "    </tr>\n",
              "    <tr>\n",
              "      <th>124165</th>\n",
              "      <td>124166</td>\n",
              "      <td>Kevin Lee</td>\n",
              "      <td>Personnel Analyst</td>\n",
              "      <td>88353.01</td>\n",
              "      <td>0.00</td>\n",
              "      <td>0.00</td>\n",
              "      <td>33172.33</td>\n",
              "      <td>88353.01</td>\n",
              "      <td>121525.34</td>\n",
              "      <td>2014</td>\n",
              "    </tr>\n",
              "    <tr>\n",
              "      <th>124658</th>\n",
              "      <td>124659</td>\n",
              "      <td>Kevin Lee</td>\n",
              "      <td>Transit Operator</td>\n",
              "      <td>67230.30</td>\n",
              "      <td>10961.25</td>\n",
              "      <td>4050.85</td>\n",
              "      <td>36777.83</td>\n",
              "      <td>82242.40</td>\n",
              "      <td>119020.23</td>\n",
              "      <td>2014</td>\n",
              "    </tr>\n",
              "  </tbody>\n",
              "</table>\n",
              "</div>"
            ],
            "text/plain": [
              "            Id EmployeeName                            JobTitle    BasePay  \\\n",
              "3824      3825    KEVIN LEE                  POLICE OFFICER III  112401.08   \n",
              "4036      4037    KEVIN LEE                   POLICE OFFICER II  108000.94   \n",
              "5279      5280    KEVIN LEE  ELECTRICAL TRANSIT SYSTEM MECHANIC   77580.68   \n",
              "13169    13170    KEVIN LEE              DEPUTY COURT CLERK III   83693.01   \n",
              "13419    13420    KEVIN LEE              DEPUTY COURT CLERK III   83560.00   \n",
              "15312    15313    KEVIN LEE                   PERSONNEL ANALYST   76786.31   \n",
              "17163    17164    KEVIN LEE      SENIOR PARKING CONTROL OFFICER   65324.60   \n",
              "17646    17647    KEVIN LEE                 IS ADMINISTRATOR II   66349.74   \n",
              "27053    27054    KEVIN LEE                    TRANSIT OPERATOR   31501.33   \n",
              "39715    39716    Kevin Lee                    Police Officer 3  115866.90   \n",
              "40570    40571    Kevin Lee                    Police Officer 3  117171.41   \n",
              "42510    42511    Kevin Lee      Electrical Transit System Mech   79220.54   \n",
              "49270    49271    Kevin Lee              Deputy Court Clerk III   84512.32   \n",
              "49439    49440    Kevin Lee              Deputy Court Clerk III   84512.34   \n",
              "50123    50124    Kevin Lee                   Personnel Analyst   83382.00   \n",
              "52233    52234    Kevin Lee      Senior Parking Control Officer   66774.03   \n",
              "53931    53932    Kevin Lee                    Transit Operator   57397.32   \n",
              "55119    55120    Kevin Lee                  IS Administrator 2   68940.44   \n",
              "112385  112386    Kevin Lee                          Sergeant 3  137982.14   \n",
              "123141  123142    Kevin Lee      IT Operations Support Admin IV   91606.03   \n",
              "124165  124166    Kevin Lee                   Personnel Analyst   88353.01   \n",
              "124658  124659    Kevin Lee                    Transit Operator   67230.30   \n",
              "\n",
              "        OvertimePay  OtherPay  Benefits   TotalPay  TotalPayBenefits  Year  \n",
              "3824       19374.72   1062.10      0.00  132837.90         132837.90  2011  \n",
              "4036       17468.40   6025.54      0.00  131494.88         131494.88  2011  \n",
              "5279       36378.97   8858.96      0.00  122818.61         122818.61  2011  \n",
              "13169          0.00    609.60      0.00   84302.61          84302.61  2011  \n",
              "13419          0.00      0.00      0.00   83560.00          83560.00  2011  \n",
              "15312          0.00      0.00      0.00   76786.31          76786.31  2011  \n",
              "17163       4944.02    686.93      0.00   70955.55          70955.55  2011  \n",
              "17646        718.23   2325.47      0.00   69393.44          69393.44  2011  \n",
              "27053       5003.46    770.75      0.00   37275.54          37275.54  2011  \n",
              "39715      23523.30   9313.54  34906.20  148703.74         183609.94  2012  \n",
              "40570      19606.88   4244.90  34610.10  141023.19         175633.29  2012  \n",
              "42510      40247.39   3353.49  38781.04  122821.42         161602.46  2012  \n",
              "49270          0.00   1469.99  36080.30   85982.31         122062.61  2012  \n",
              "49439          0.00    975.44  35902.02   85487.78         121389.80  2012  \n",
              "50123          0.00      0.00  35210.59   83382.00         118592.59  2012  \n",
              "52233       9599.08   1092.62  31902.38   77465.73         109368.11  2012  \n",
              "53931       9989.83   1800.48  34577.54   69187.63         103765.17  2012  \n",
              "55119          0.00      0.00  30650.48   68940.44          99590.92  2012  \n",
              "112385     18537.19  16039.62  43039.12  172558.95         215598.07  2014  \n",
              "123141         0.00   1013.00  34109.61   92619.03         126728.64  2014  \n",
              "124165         0.00      0.00  33172.33   88353.01         121525.34  2014  \n",
              "124658     10961.25   4050.85  36777.83   82242.40         119020.23  2014  "
            ]
          },
          "metadata": {
            "tags": []
          },
          "execution_count": 248
        }
      ]
    },
    {
      "cell_type": "markdown",
      "metadata": {
        "id": "zB_Fu1c9Pm1u",
        "colab_type": "text"
      },
      "source": [
        "*The names are duplicated because the data describes one person in different years or just because there are people who have same name. It's ok so we only need to uppercase all of the name to eliminate case sensitive.*\n",
        "\n",
        "*But there are definitely some duplication of Job Title, example `Police Officer 3` and `POLICE OFFICER III`*"
      ]
    },
    {
      "cell_type": "code",
      "metadata": {
        "id": "Ufw8QW-6Pm1u",
        "colab_type": "code",
        "colab": {}
      },
      "source": [
        "# Replace Name and Job Title with its uppercase\n",
        "# Fill the blanks\n",
        "sal['EmployeeName'] = sal['EmployeeName'].___.___()\n",
        "sal['JobTitle'] = sal['JobTitle'].___.___()"
      ],
      "execution_count": 0,
      "outputs": []
    },
    {
      "cell_type": "code",
      "metadata": {
        "id": "heSYToXzPm1x",
        "colab_type": "code",
        "colab": {}
      },
      "source": [
        "# Write a regular expression to select JobTitle that ends with a digit\n",
        "# Fill the blank\n",
        "sal['JobTitle'][sal['JobTitle'].str.contains('___', regex=True)].value_counts()"
      ],
      "execution_count": 0,
      "outputs": []
    },
    {
      "cell_type": "code",
      "metadata": {
        "id": "xaYYbPRPPm10",
        "colab_type": "code",
        "outputId": "49fbb836-433b-496c-bdf8-eb4ca59845e2",
        "colab": {}
      },
      "source": [
        "# Write a regex that count all JobTitle start with POLICE OFFICER\n",
        "# Fill the blank\n",
        "sal['JobTitle'][sal['JobTitle'].str.contains('___', regex=True)].value_counts()"
      ],
      "execution_count": 0,
      "outputs": [
        {
          "output_type": "execute_result",
          "data": {
            "text/plain": [
              "POLICE OFFICER 3      2421\n",
              "POLICE OFFICER        1476\n",
              "POLICE OFFICER 2      1141\n",
              "POLICE OFFICER III     779\n",
              "POLICE OFFICER I       467\n",
              "POLICE OFFICER II      361\n",
              "Name: JobTitle, dtype: int64"
            ]
          },
          "metadata": {
            "tags": []
          },
          "execution_count": 251
        }
      ]
    },
    {
      "cell_type": "markdown",
      "metadata": {
        "id": "1u2obTwpT55c",
        "colab_type": "text"
      },
      "source": [
        "There are discrepancies on how those `JobTitle` are represented. For instance: `POLICE OFFICER II` is `POLICE OFFICER 2` and those should be treated equally.\n",
        "\n",
        "We'll modify this feature accordingly by transforming all the Roman numbers  to our every day numbers.\n"
      ]
    },
    {
      "cell_type": "code",
      "metadata": {
        "id": "V1eYSjo0Pm12",
        "colab_type": "code",
        "outputId": "065326d6-b3cd-46e0-c0a4-5a90d5314950",
        "colab": {}
      },
      "source": [
        "# This is a simple function to transform roman number\n",
        "def transform_roman(s):\n",
        "    d = {'I':1, 'II':2, 'III':3, 'IV':4, 'V':5, 'VI':6, 'VII':7, 'VIII':8, 'IX':9, 'X':10, \n",
        "        'XI':11, 'XII':12, 'XIII':13, 'XIV':14, 'XV':15, 'XVI':16, 'XVII':17, 'XVIII':18, 'XIX':19, 'XX':20}\n",
        "    \n",
        "    s_split = s.split()\n",
        "    if s_split[-1] in d.keys():\n",
        "        s_split[-1] = str(d[s_split[-1]])\n",
        "    return ' '.join(s_split)\n",
        "\n",
        "# Test it out\n",
        "transform_roman('POLICE OFFICER III')"
      ],
      "execution_count": 0,
      "outputs": [
        {
          "output_type": "execute_result",
          "data": {
            "text/plain": [
              "'POLICE OFFICER 3'"
            ]
          },
          "metadata": {
            "tags": []
          },
          "execution_count": 252
        }
      ]
    },
    {
      "cell_type": "code",
      "metadata": {
        "id": "2PX5dFaxPm14",
        "colab_type": "code",
        "colab": {}
      },
      "source": [
        "# Apply the function above to the column JobTitle\n",
        "# Fill the blank\n",
        "sal['JobTitle'] = sal['JobTitle'].apply(___)"
      ],
      "execution_count": 0,
      "outputs": []
    },
    {
      "cell_type": "markdown",
      "metadata": {
        "id": "Ikd1t-v3Pm17",
        "colab_type": "text"
      },
      "source": [
        "### Step 4 - EDA"
      ]
    },
    {
      "cell_type": "markdown",
      "metadata": {
        "id": "-dEBLw1uPm1-",
        "colab_type": "text"
      },
      "source": [
        "**Plot categorical data**"
      ]
    },
    {
      "cell_type": "code",
      "metadata": {
        "id": "_N-UF331Pm1-",
        "colab_type": "code",
        "outputId": "b4348649-6982-42e0-b09b-16cad665fddc",
        "colab": {}
      },
      "source": [
        "sns.countplot(x='Year', data=sal)\n",
        "# What can you tell by looking at this?"
      ],
      "execution_count": 0,
      "outputs": [
        {
          "output_type": "execute_result",
          "data": {
            "text/plain": [
              "<matplotlib.axes._subplots.AxesSubplot at 0x1a360d6240>"
            ]
          },
          "metadata": {
            "tags": []
          },
          "execution_count": 257
        },
        {
          "output_type": "display_data",
          "data": {
            "image/png": "[encoded data removed]",
            "text/plain": [
              "<Figure size 432x288 with 1 Axes>"
            ]
          },
          "metadata": {
            "tags": []
          }
        }
      ]
    },
    {
      "cell_type": "markdown",
      "metadata": {
        "id": "pGvAB5cNPm2D",
        "colab_type": "text"
      },
      "source": [
        "**Top 5 common job titles**"
      ]
    },
    {
      "cell_type": "code",
      "metadata": {
        "id": "3LrHbjpHPm2D",
        "colab_type": "code",
        "colab": {}
      },
      "source": [
        "# Fill the blanks \n",
        "sal['JobTitle'].___().___().___(kind='barh')"
      ],
      "execution_count": 0,
      "outputs": []
    },
    {
      "cell_type": "markdown",
      "metadata": {
        "id": "JZvwnGZ-Pm2F",
        "colab_type": "text"
      },
      "source": [
        "**Distribution of numerical data**"
      ]
    },
    {
      "cell_type": "code",
      "metadata": {
        "id": "UnTkDE4NPm2F",
        "colab_type": "code",
        "colab": {}
      },
      "source": [
        "# Run this\n",
        "sns.distplot(sal['TotalPayBenefits'])"
      ],
      "execution_count": 0,
      "outputs": []
    },
    {
      "cell_type": "code",
      "metadata": {
        "id": "rS3lsmV4Pm2J",
        "colab_type": "code",
        "colab": {}
      },
      "source": [
        "# Histogram is sensitive with the bins, try some examples to prove that\n",
        "plt.hist(sal['TotalPayBenefits'], bins=5)\n",
        "plt.show()"
      ],
      "execution_count": 0,
      "outputs": []
    },
    {
      "cell_type": "code",
      "metadata": {
        "colab_type": "code",
        "outputId": "3732affd-9ac9-4bf7-af93-4c4f081f61c0",
        "id": "OmY97JiBsn__",
        "colab": {}
      },
      "source": [
        "# Plot these diagrams in a dashboard with two rows and two columns\n",
        "# sns.kdeplot(sal['BasePay'])\n",
        "# sns.kdeplot(sal['OvertimePay'])\n",
        "# sns.kdeplot(sal['OtherPay'])\n",
        "# sns.kdeplot(sal['Benefits'])\n",
        "\n",
        "f, axes = plt.subplots(2, 2, figsize=(12, 6))\n",
        "\n",
        "# Your code here\n",
        "\n",
        "plt.show()"
      ],
      "execution_count": 0,
      "outputs": [
        {
          "output_type": "display_data",
          "data": {
            "image/png": "[encoded data removed]",
            "text/plain": [
              "<Figure size 864x432 with 4 Axes>"
            ]
          },
          "metadata": {
            "tags": []
          }
        }
      ]
    },
    {
      "cell_type": "code",
      "metadata": {
        "id": "3bhCQzNfPm2S",
        "colab_type": "code",
        "outputId": "62baa862-0c69-475f-8a31-0ff740252980",
        "colab": {}
      },
      "source": [
        "# Plot these diagrams in a dashboard with one rows and two columns\n",
        "# sns.distplot(sal['TotalPay'])\n",
        "# sns.distplot(sal['TotalPayBenefits'])\n",
        "\n",
        "f, axes = plt.subplots(1, 2, figsize=(12, 6))\n",
        "\n",
        "# Your code here\n",
        "\n",
        "plt.show()"
      ],
      "execution_count": 0,
      "outputs": [
        {
          "output_type": "display_data",
          "data": {
            "image/png": "[encoded data removed]",
            "text/plain": [
              "<Figure size 864x432 with 2 Axes>"
            ]
          },
          "metadata": {
            "tags": []
          }
        }
      ]
    },
    {
      "cell_type": "markdown",
      "metadata": {
        "id": "AYQl8xQstFcl",
        "colab_type": "text"
      },
      "source": [
        "**Analize richest people**"
      ]
    },
    {
      "cell_type": "code",
      "metadata": {
        "id": "wnr3XVJYPm2U",
        "colab_type": "code",
        "colab": {}
      },
      "source": [
        "# Select people that have TotalPayBenefit greater than $300k\n",
        "# Your code here"
      ],
      "execution_count": 0,
      "outputs": []
    },
    {
      "cell_type": "code",
      "metadata": {
        "id": "Qc4DYmaNPm2Y",
        "colab_type": "code",
        "colab": {}
      },
      "source": [
        "def split_income_type(n):\n",
        "    if n < 1000:\n",
        "        return 'Retired'\n",
        "    elif n < 50000:\n",
        "        return 'Low Income'\n",
        "    elif n < 150000:\n",
        "        return 'Midrange'\n",
        "    elif n < 250000:\n",
        "        return 'High Income'\n",
        "    else:\n",
        "        return 'Millionaire'"
      ],
      "execution_count": 0,
      "outputs": []
    },
    {
      "cell_type": "code",
      "metadata": {
        "id": "ndS0LG9_tX0Y",
        "colab_type": "code",
        "colab": {}
      },
      "source": [
        "# Apply the function above to create a new column name IncomeType from TotalPayBenefits\n",
        "# Fill the blank\n",
        "sal['IncomeType'] = ___"
      ],
      "execution_count": 0,
      "outputs": []
    },
    {
      "cell_type": "code",
      "metadata": {
        "id": "Uh8VVB1nPm2a",
        "colab_type": "code",
        "outputId": "bdee24cb-df51-4b30-9319-750375b4134a",
        "colab": {}
      },
      "source": [
        "sns.countplot(sal['IncomeType'])\n",
        "# What can you tell?"
      ],
      "execution_count": 0,
      "outputs": [
        {
          "output_type": "execute_result",
          "data": {
            "text/plain": [
              "<matplotlib.axes._subplots.AxesSubplot at 0x1a36bbc9e8>"
            ]
          },
          "metadata": {
            "tags": []
          },
          "execution_count": 268
        },
        {
          "output_type": "display_data",
          "data": {
            "image/png": "[encoded data removed]",
            "text/plain": [
              "<Figure size 432x288 with 1 Axes>"
            ]
          },
          "metadata": {
            "tags": []
          }
        }
      ]
    },
    {
      "cell_type": "code",
      "metadata": {
        "id": "iQtknDUIPm2e",
        "colab_type": "code",
        "outputId": "78563215-b7bf-409c-d5de-712792c1d30e",
        "colab": {}
      },
      "source": [
        "# Pie chart\n",
        "labels = []\n",
        "sizes = []\n",
        "explode = []\n",
        "\n",
        "labels = sal['IncomeType'].value_counts().index\n",
        "for index, size in enumerate(sal['IncomeType'].value_counts()):\n",
        "    sizes.append(size)\n",
        "    if labels[index]=='Millionaire':\n",
        "        explode.append(0.2)\n",
        "    else: # add high income too?\n",
        "        explode.append(0)\n",
        " \n",
        "f, ax1 = plt.subplots()\n",
        "ax1.pie(sizes, explode=explode, labels=labels, autopct='%1.1f%%',\n",
        "        shadow=True, startangle=45)\n",
        "# Equal aspect ratio ensures that pie is drawn as a circle\n",
        "ax1.axis('equal')  \n",
        "plt.tight_layout()\n",
        "plt.show()"
      ],
      "execution_count": 0,
      "outputs": [
        {
          "output_type": "display_data",
          "data": {
            "image/png": "[encoded data removed]",
            "text/plain": [
              "<Figure size 432x288 with 1 Axes>"
            ]
          },
          "metadata": {
            "tags": []
          }
        }
      ]
    },
    {
      "cell_type": "code",
      "metadata": {
        "id": "pbAUA-kgPm20",
        "colab_type": "code",
        "colab": {}
      },
      "source": [
        "# What is the top 10 Job Title of Millionaire\n",
        "# Fill the blank\n",
        "millionare_jobs = sal[___].groupby('JobTitle').mean()\n",
        "millionare_jobs.sort_values(by=['TotalPayBenefits'], ascending=___)['TotalPayBenefits'].___(10).plot(kind='___')"
      ],
      "execution_count": 0,
      "outputs": []
    },
    {
      "cell_type": "code",
      "metadata": {
        "id": "5LNMS8DGPm22",
        "colab_type": "code",
        "colab": {}
      },
      "source": [
        "# Find the name of 10 richest man\n",
        "# Your code here"
      ],
      "execution_count": 0,
      "outputs": []
    },
    {
      "cell_type": "code",
      "metadata": {
        "id": "TDMwfQIfPm2-",
        "colab_type": "code",
        "outputId": "9df94fce-80ad-48e1-83fc-77236c09754f",
        "colab": {}
      },
      "source": [
        "# Analyze TotalPayBenefits of 10 richest man each Year\n",
        "# Your code here"
      ],
      "execution_count": 0,
      "outputs": [
        {
          "output_type": "execute_result",
          "data": {
            "text/plain": [
              "<matplotlib.axes._subplots.AxesSubplot at 0x1a36c84c88>"
            ]
          },
          "metadata": {
            "tags": []
          },
          "execution_count": 293
        },
        {
          "output_type": "display_data",
          "data": {
            "image/png": "[encoded data removed]",
            "text/plain": [
              "<Figure size 432x288 with 1 Axes>"
            ]
          },
          "metadata": {
            "tags": []
          }
        }
      ]
    },
    {
      "cell_type": "markdown",
      "metadata": {
        "id": "MoBgPjDiwhdV",
        "colab_type": "text"
      },
      "source": [
        "### You are awesome!!"
      ]
    }
  ]
}