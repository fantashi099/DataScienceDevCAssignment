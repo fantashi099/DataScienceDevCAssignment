{
 "cells": [
  {
   "cell_type": "markdown",
   "metadata": {},
   "source": [
    "Python"
   ]
  },
  {
   "cell_type": "markdown",
   "metadata": {},
   "source": [
    "Say \"Hello, World!\" With Python\n",
    "https://www.hackerrank.com/rest/contests/master/challenges/py-hello-world/hackers/The_Perfect_Name/download_solution"
   ]
  },
  {
   "cell_type": "code",
   "execution_count": null,
   "metadata": {},
   "outputs": [],
   "source": [
    "print(\"Hello, World!\")"
   ]
  },
  {
   "cell_type": "markdown",
   "metadata": {},
   "source": [
    "Python If-Else\n",
    "https://www.hackerrank.com/rest/contests/master/challenges/py-if-else/hackers/The_Perfect_Name/download_solution"
   ]
  },
  {
   "cell_type": "code",
   "execution_count": null,
   "metadata": {},
   "outputs": [],
   "source": [
    "#!/bin/python3\n",
    "import math\n",
    "import os\n",
    "import random\n",
    "import re\n",
    "import sys\n",
    "\n",
    "n  =  int(input())\n",
    "if n  %  2  ==  1:\n",
    "    print('Weird')\n",
    "if (n%2 == 0) and (n>1) and (n<6):\n",
    "    print('Not Weird')\n",
    "if (n%2 == 0) and (n> 5) and (n<21):\n",
    "    print('Weird')\n",
    "elif (n%2 == 0) and (n > 20):\n",
    "    print('Not Weird')"
   ]
  },
  {
   "cell_type": "markdown",
   "metadata": {},
   "source": [
    "Arithmetic Operators\n",
    "https://www.hackerrank.com/rest/contests/master/challenges/python-arithmetic-operators/hackers/The_Perfect_Name/download_solution"
   ]
  },
  {
   "cell_type": "code",
   "execution_count": null,
   "metadata": {},
   "outputs": [],
   "source": [
    "a = int(input())\n",
    "b = int(input())\n",
    "print(a+b)\n",
    "print(a-b)\n",
    "print(a*b)"
   ]
  },
  {
   "cell_type": "markdown",
   "metadata": {},
   "source": [
    "Python: Division\n",
    "https://www.hackerrank.com/rest/contests/master/challenges/python-division/hackers/The_Perfect_Name/download_solution"
   ]
  },
  {
   "cell_type": "code",
   "execution_count": null,
   "metadata": {},
   "outputs": [],
   "source": [
    "a = int(input())\n",
    "b = int(input())\n",
    "print(a//b)\n",
    "print(a/b)"
   ]
  },
  {
   "cell_type": "markdown",
   "metadata": {},
   "source": [
    "Loops\n",
    "https://www.hackerrank.com/rest/contests/master/challenges/python-loops/hackers/The_Perfect_Name/download_solution"
   ]
  },
  {
   "cell_type": "code",
   "execution_count": null,
   "metadata": {},
   "outputs": [],
   "source": [
    "n = int(input())\n",
    "for i in range(n):\n",
    "    print(i*i)"
   ]
  },
  {
   "cell_type": "markdown",
   "metadata": {},
   "source": [
    "Write a function\n",
    "https://www.hackerrank.com/rest/contests/master/challenges/write-a-function/hackers/The_Perfect_Name/download_solution"
   ]
  },
  {
   "cell_type": "code",
   "execution_count": null,
   "metadata": {},
   "outputs": [],
   "source": [
    "def is_leap(year):\n",
    "    leap = False\n",
    "    \n",
    "    # Write your logic here\n",
    "    if year%400 ==0 or ((year%4==0)and(year%100!=0)):\n",
    "        leap = True\n",
    "    return leap"
   ]
  },
  {
   "cell_type": "markdown",
   "metadata": {},
   "source": [
    "SQL"
   ]
  },
  {
   "cell_type": "markdown",
   "metadata": {},
   "source": [
    "Revising the Select Query I\n",
    "Query all columns for all American cities in CITY with populations larger than 100000. The CountryCode for America is USA.\n",
    "https://www.hackerrank.com/rest/contests/master/challenges/revising-the-select-query/hackers/The_Perfect_Name/download_solution"
   ]
  },
  {
   "cell_type": "code",
   "execution_count": null,
   "metadata": {},
   "outputs": [],
   "source": [
    "SELECT * FROM city\n",
    "WHERE countrycode = 'USA' AND population > 100000;"
   ]
  },
  {
   "cell_type": "markdown",
   "metadata": {},
   "source": [
    "Revising the Select Query II\n",
    "Query the names of all American cities in CITY with populations larger than 120000. The CountryCode for America is USA.\n",
    "https://www.hackerrank.com/rest/contests/master/challenges/revising-the-select-query-2/hackers/The_Perfect_Name/download_solution"
   ]
  },
  {
   "cell_type": "code",
   "execution_count": null,
   "metadata": {},
   "outputs": [],
   "source": [
    "SELECT name FROM city\n",
    "WHERE countrycode = 'USA' AND population > 120000;"
   ]
  },
  {
   "cell_type": "markdown",
   "metadata": {},
   "source": [
    "Select All\n",
    "https://www.hackerrank.com/rest/contests/master/challenges/select-all-sql/hackers/The_Perfect_Name/download_solution"
   ]
  },
  {
   "cell_type": "code",
   "execution_count": null,
   "metadata": {},
   "outputs": [],
   "source": [
    "SELECT * FROM city;"
   ]
  },
  {
   "cell_type": "markdown",
   "metadata": {},
   "source": [
    "Select By ID\n",
    "https://www.hackerrank.com/rest/contests/master/challenges/select-by-id/hackers/The_Perfect_Name/download_solution"
   ]
  },
  {
   "cell_type": "code",
   "execution_count": null,
   "metadata": {},
   "outputs": [],
   "source": [
    "SELECT * FROM city\n",
    "WHERE id = 1661;"
   ]
  },
  {
   "cell_type": "markdown",
   "metadata": {},
   "source": [
    "Japanese Cities' Attributes\n",
    "https://www.hackerrank.com/rest/contests/master/challenges/japanese-cities-attributes/hackers/The_Perfect_Name/download_solution"
   ]
  },
  {
   "cell_type": "code",
   "execution_count": null,
   "metadata": {},
   "outputs": [],
   "source": [
    "SELECT * FROM city\n",
    "WHERE countrycode = 'JPN';"
   ]
  },
  {
   "cell_type": "markdown",
   "metadata": {},
   "source": [
    "Weather Observation Station 1\n",
    "https://www.hackerrank.com/rest/contests/master/challenges/weather-observation-station-1/hackers/The_Perfect_Name/download_solution"
   ]
  },
  {
   "cell_type": "code",
   "execution_count": null,
   "metadata": {},
   "outputs": [],
   "source": [
    "SELECT city,state FROM station;"
   ]
  },
  {
   "cell_type": "markdown",
   "metadata": {},
   "source": [
    "Weather Observation Station 3\n",
    "https://www.hackerrank.com/rest/contests/master/challenges/weather-observation-station-3/hackers/The_Perfect_Name/download_solution"
   ]
  },
  {
   "cell_type": "code",
   "execution_count": null,
   "metadata": {},
   "outputs": [],
   "source": [
    "SELECT DISTINCT city FROM station\n",
    "WHERE MOD(id,2) = 0;"
   ]
  },
  {
   "cell_type": "markdown",
   "metadata": {},
   "source": [
    "Weather Observation Station 4\n",
    "https://www.hackerrank.com/rest/contests/master/challenges/weather-observation-station-4/hackers/The_Perfect_Name/download_solution"
   ]
  },
  {
   "cell_type": "code",
   "execution_count": null,
   "metadata": {},
   "outputs": [],
   "source": [
    "SELECT COUNT(city) - COUNT(DISTINCT city) FROM station;"
   ]
  },
  {
   "cell_type": "markdown",
   "metadata": {},
   "source": [
    "Weather Observation Station 5\n",
    "https://www.hackerrank.com/rest/contests/master/challenges/weather-observation-station-5/hackers/The_Perfect_Name/download_solution"
   ]
  },
  {
   "cell_type": "code",
   "execution_count": null,
   "metadata": {},
   "outputs": [],
   "source": [
    "SELECT city, LENGTH(city) FROM station\n",
    "ORDER BY LENGTH(city), city\n",
    "LIMIT 1;\n",
    "SELECT city, LENGTH(city) FROM station\n",
    "ORDER BY LENGTH(city) DESC, city DESC\n",
    "LIMIT 1;"
   ]
  },
  {
   "cell_type": "markdown",
   "metadata": {},
   "source": [
    "Weather Observation Station 6\n",
    "https://www.hackerrank.com/rest/contests/master/challenges/weather-observation-station-6/hackers/The_Perfect_Name/download_solution"
   ]
  },
  {
   "cell_type": "code",
   "execution_count": null,
   "metadata": {},
   "outputs": [],
   "source": [
    "SELECT DISTINCT city FROM station\n",
    "WHERE (city LIKE \"i.e%\") OR (city LIKE \"a%\") OR (city LIKE \"e%\") OR (city LIKE \"i%\") OR (city LIKE \"o%\") OR (city LIKE \"u%\");"
   ]
  }
 ],
 "metadata": {
  "kernelspec": {
   "display_name": "Python 3",
   "language": "python",
   "name": "python3"
  },
  "language_info": {
   "codemirror_mode": {
    "name": "ipython",
    "version": 3
   },
   "file_extension": ".py",
   "mimetype": "text/x-python",
   "name": "python",
   "nbconvert_exporter": "python",
   "pygments_lexer": "ipython3",
   "version": "3.6.7"
  }
 },
 "nbformat": 4,
 "nbformat_minor": 2
}
