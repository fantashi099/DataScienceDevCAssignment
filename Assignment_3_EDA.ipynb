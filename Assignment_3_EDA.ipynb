{
 "cells": [
  {
   "cell_type": "markdown",
   "metadata": {
    "colab_type": "text",
    "id": "view-in-github"
   },
   "source": [
    "<a href=\"https://colab.research.google.com/github/fantashi099/DataScienceDevCAssignment/blob/master/Assignment_3_EDA.ipynb\" target=\"_parent\"><img src=\"https://colab.research.google.com/assets/colab-badge.svg\" alt=\"Open In Colab\"/></a>"
   ]
  },
  {
   "cell_type": "markdown",
   "metadata": {
    "colab_type": "text",
    "id": "x7fdTGs4SnyS"
   },
   "source": [
    "![](https://i.imgur.com/0AUxkXt.png)"
   ]
  },
  {
   "cell_type": "markdown",
   "metadata": {
    "colab_type": "text",
    "id": "_uqy69P0Pm0L"
   },
   "source": [
    "# Assignment 3 - From data to insights\n",
    "\n",
    "Before you explore the data, write down a short list of what you expect to see in the data: the distribution of key variables, the relationships between important pairs of them, and so on. Such a list is essentially a prediction based on your current understanding of the business.\n",
    "\n",
    "Now analyze the data. Make plots, do summaries, whatever is needed to see if it matches your expectations.\n",
    "\n",
    "Is there anything that doesn’t match? Anything that makes you go “That’s odd” or “That doesn’t make any sense.”?\n",
    "\n",
    "Zoom in and try to understand what in your business is making that weird thing show up in the data like that. This is the critical step.\n",
    "\n",
    "You may have just found an insight into the business and increased your understanding\n",
    "\n",
    "\n",
    "## The data analysis checklist\n",
    "\n",
    "This checklist can be used as a guide during the process of a data analysis, or as a way to evaluate the quality of a reported data analysis.\n",
    "\n",
    "### Answering the first questions\n",
    "\n",
    "1. Did you define the metric for success before beginning?\n",
    "2. Did you understand the context for the question and business application?\n",
    "3. Did you consider whether the question could be answered with the available data?\n",
    "\n",
    "### Cleaning the data\n",
    "\n",
    "1. Did you identify the missing data?\n",
    "2. Is each variable one column?\n",
    "3. Do different data types appear in each table?\n",
    "4. Did you try to identify any errors or miscoding of variables?\n",
    "5. Did you check for outliers?\n",
    "\n",
    "### Exploratory analysis\n",
    "\n",
    "1. Did you make univariate plots (histogram, distplot, boxplot)?\n",
    "2. Did you consider correlations between variables (scatterplot, jointplot, kde plot, correlation matrix)?\n",
    "3. Did you check the units of all data points to make sure they are in the right range?\n",
    "\n",
    "### Presentations\n",
    "\n",
    "1. Did you lead with a brief, understandable to everyone of your problem?\n",
    "2. Did you explain the data, describe the question of interest?\n",
    "3. Did you make sure all legends and axes were legible from the back of the room?"
   ]
  },
  {
   "cell_type": "markdown",
   "metadata": {
    "colab_type": "text",
    "id": "ZBc0glanPm0M"
   },
   "source": [
    "## Dataset - Online Retailes Purchase\n",
    "\n",
    "Typically e-commerce datasets are proprietary and consequently hard to find among publicly available data. However, [The UCI Machine Learning Repository](http://archive.ics.uci.edu/ml/index.php) has made this dataset containing actual transactions from 2010 and 2011. The dataset is maintained on their site, where it can be found by the title \"Online Retail\".\n",
    "\n",
    "\n",
    "### Step 1 - Checking the data\n",
    "\n",
    "**Import tools set**"
   ]
  },
  {
   "cell_type": "code",
   "execution_count": 1,
   "metadata": {
    "colab": {},
    "colab_type": "code",
    "id": "9Cx3LXxfPm0N"
   },
   "outputs": [],
   "source": [
    "# Your code here\n",
    "import pandas as pd\n",
    "import seaborn as sns\n",
    "import matplotlib.pyplot as plt"
   ]
  },
  {
   "cell_type": "markdown",
   "metadata": {
    "colab_type": "text",
    "id": "mFTQu0j6Pm0Q"
   },
   "source": [
    "**Import data**"
   ]
  },
  {
   "cell_type": "code",
   "execution_count": 2,
   "metadata": {
    "colab": {},
    "colab_type": "code",
    "id": "w0YVchrVPm0R"
   },
   "outputs": [],
   "source": [
    "# link = \"https://ml101-khanhnguyen.s3-ap-southeast-1.amazonaws.com/devc/Online_Retail.csv\"\n",
    "# Note: set param encoding = 'latin1'\n",
    "# Your code here\n",
    "Onl = pd.read_csv('https://ml101-khanhnguyen.s3-ap-southeast-1.amazonaws.com/devc/Online_Retail.csv', encoding = 'latin1')"
   ]
  },
  {
   "cell_type": "code",
   "execution_count": 3,
   "metadata": {
    "colab": {},
    "colab_type": "code",
    "id": "V3v8D3pTFrYh"
   },
   "outputs": [
    {
     "data": {
      "text/html": [
       "<div>\n",
       "<style scoped>\n",
       "    .dataframe tbody tr th:only-of-type {\n",
       "        vertical-align: middle;\n",
       "    }\n",
       "\n",
       "    .dataframe tbody tr th {\n",
       "        vertical-align: top;\n",
       "    }\n",
       "\n",
       "    .dataframe thead th {\n",
       "        text-align: right;\n",
       "    }\n",
       "</style>\n",
       "<table border=\"1\" class=\"dataframe\">\n",
       "  <thead>\n",
       "    <tr style=\"text-align: right;\">\n",
       "      <th></th>\n",
       "      <th>InvoiceNo</th>\n",
       "      <th>StockCode</th>\n",
       "      <th>Description</th>\n",
       "      <th>Quantity</th>\n",
       "      <th>InvoiceDate</th>\n",
       "      <th>UnitPrice</th>\n",
       "      <th>CustomerID</th>\n",
       "      <th>Country</th>\n",
       "    </tr>\n",
       "  </thead>\n",
       "  <tbody>\n",
       "    <tr>\n",
       "      <th>0</th>\n",
       "      <td>536365</td>\n",
       "      <td>85123A</td>\n",
       "      <td>WHITE HANGING HEART T-LIGHT HOLDER</td>\n",
       "      <td>6</td>\n",
       "      <td>12/1/10 8:26</td>\n",
       "      <td>2.55</td>\n",
       "      <td>17850.0</td>\n",
       "      <td>United Kingdom</td>\n",
       "    </tr>\n",
       "    <tr>\n",
       "      <th>1</th>\n",
       "      <td>536365</td>\n",
       "      <td>71053</td>\n",
       "      <td>WHITE METAL LANTERN</td>\n",
       "      <td>6</td>\n",
       "      <td>12/1/10 8:26</td>\n",
       "      <td>3.39</td>\n",
       "      <td>17850.0</td>\n",
       "      <td>United Kingdom</td>\n",
       "    </tr>\n",
       "    <tr>\n",
       "      <th>2</th>\n",
       "      <td>536365</td>\n",
       "      <td>84406B</td>\n",
       "      <td>CREAM CUPID HEARTS COAT HANGER</td>\n",
       "      <td>8</td>\n",
       "      <td>12/1/10 8:26</td>\n",
       "      <td>2.75</td>\n",
       "      <td>17850.0</td>\n",
       "      <td>United Kingdom</td>\n",
       "    </tr>\n",
       "    <tr>\n",
       "      <th>3</th>\n",
       "      <td>536365</td>\n",
       "      <td>84029G</td>\n",
       "      <td>KNITTED UNION FLAG HOT WATER BOTTLE</td>\n",
       "      <td>6</td>\n",
       "      <td>12/1/10 8:26</td>\n",
       "      <td>3.39</td>\n",
       "      <td>17850.0</td>\n",
       "      <td>United Kingdom</td>\n",
       "    </tr>\n",
       "    <tr>\n",
       "      <th>4</th>\n",
       "      <td>536365</td>\n",
       "      <td>84029E</td>\n",
       "      <td>RED WOOLLY HOTTIE WHITE HEART.</td>\n",
       "      <td>6</td>\n",
       "      <td>12/1/10 8:26</td>\n",
       "      <td>3.39</td>\n",
       "      <td>17850.0</td>\n",
       "      <td>United Kingdom</td>\n",
       "    </tr>\n",
       "  </tbody>\n",
       "</table>\n",
       "</div>"
      ],
      "text/plain": [
       "  InvoiceNo StockCode                          Description  Quantity  \\\n",
       "0    536365    85123A   WHITE HANGING HEART T-LIGHT HOLDER         6   \n",
       "1    536365     71053                  WHITE METAL LANTERN         6   \n",
       "2    536365    84406B       CREAM CUPID HEARTS COAT HANGER         8   \n",
       "3    536365    84029G  KNITTED UNION FLAG HOT WATER BOTTLE         6   \n",
       "4    536365    84029E       RED WOOLLY HOTTIE WHITE HEART.         6   \n",
       "\n",
       "    InvoiceDate  UnitPrice  CustomerID         Country  \n",
       "0  12/1/10 8:26       2.55     17850.0  United Kingdom  \n",
       "1  12/1/10 8:26       3.39     17850.0  United Kingdom  \n",
       "2  12/1/10 8:26       2.75     17850.0  United Kingdom  \n",
       "3  12/1/10 8:26       3.39     17850.0  United Kingdom  \n",
       "4  12/1/10 8:26       3.39     17850.0  United Kingdom  "
      ]
     },
     "execution_count": 3,
     "metadata": {},
     "output_type": "execute_result"
    }
   ],
   "source": [
    "# Print out First 5 rows from dataframe\n",
    "# Your code here\n",
    "Onl.head(5)"
   ]
  },
  {
   "cell_type": "code",
   "execution_count": 4,
   "metadata": {
    "colab": {},
    "colab_type": "code",
    "id": "u4Msf54uFy4w"
   },
   "outputs": [
    {
     "name": "stdout",
     "output_type": "stream",
     "text": [
      "<class 'pandas.core.frame.DataFrame'>\n",
      "RangeIndex: 541909 entries, 0 to 541908\n",
      "Data columns (total 8 columns):\n",
      "InvoiceNo      541909 non-null object\n",
      "StockCode      541909 non-null object\n",
      "Description    540455 non-null object\n",
      "Quantity       541909 non-null int64\n",
      "InvoiceDate    541909 non-null object\n",
      "UnitPrice      541909 non-null float64\n",
      "CustomerID     406829 non-null float64\n",
      "Country        541909 non-null object\n",
      "dtypes: float64(2), int64(1), object(5)\n",
      "memory usage: 33.1+ MB\n"
     ]
    }
   ],
   "source": [
    "# Print out brief info\n",
    "Onl.info()"
   ]
  },
  {
   "cell_type": "markdown",
   "metadata": {
    "colab_type": "text",
    "id": "wY6yv3UsPm0k"
   },
   "source": [
    "### Step 2 - Cleaning the data\n",
    "\n",
    "Few of useful data cleaning functions:\n",
    "\n",
    "* `s.astype('category')` # This will convert the datatype of the series to float *Please note that \"s\" here is a Pandas Series\n",
    "\n",
    "* `s.replace(1,'one')` # This will replace all values equal to 1 with 'one'\n",
    "\n",
    "* `s.replace([1,3],['one','three'])` # This will replace all 1 with 'one' and 3 with 'three'\n",
    "\n",
    "* `data.rename(columns=lambda x: x + 1)` # Mass renaming of columns\n",
    "\n",
    "* `data.rename(columns={'oldname': 'new name'})` # Selective renaming\n",
    "\n",
    "* `data.set_index('column_one')` #  This will change the index\n",
    "\n",
    "* `data.rename(index=lambda x: x + 1)` # Mass renaming of index\n",
    "\n",
    "* `data.dropna()` # Remove missing values\n",
    "\n",
    "* `data.fillna(x)` #  This will replaces all null values with x\n",
    "\n",
    "* `s.fillna(s.mean())` # This will replace all null values with the mean (mean can be replaced with almost any function from the below section) :\n",
    "\n",
    "* `data.corr()` # This will return the correlation between columns in a DataFrame\n",
    "\n",
    "* `data.count()` # This will return the number of non-null values in each DataFrame column\n",
    "\n",
    "* `data.max()` # This will return the highest value in each column\n",
    "\n",
    "* `data.min()` # This will return the lowest value in each column\n",
    "\n",
    "* `data.median()` # This will return the median of each column\n",
    "\n",
    "* `data.std()` # This will returns the standard deviation of each column\n"
   ]
  },
  {
   "cell_type": "markdown",
   "metadata": {
    "colab_type": "text",
    "id": "rcNsGWarPm06"
   },
   "source": [
    "**Check for NaN values**"
   ]
  },
  {
   "cell_type": "code",
   "execution_count": 5,
   "metadata": {
    "colab": {},
    "colab_type": "code",
    "id": "TqLxHGy2Pm06"
   },
   "outputs": [
    {
     "data": {
      "text/plain": [
       "InvoiceNo           0\n",
       "StockCode           0\n",
       "Description      1454\n",
       "Quantity            0\n",
       "InvoiceDate         0\n",
       "UnitPrice           0\n",
       "CustomerID     135080\n",
       "Country             0\n",
       "dtype: int64"
      ]
     },
     "execution_count": 5,
     "metadata": {},
     "output_type": "execute_result"
    }
   ],
   "source": [
    "# Your code here\n",
    "Onl.isna().sum()"
   ]
  },
  {
   "cell_type": "markdown",
   "metadata": {
    "colab_type": "text",
    "id": "RdhPk_x1Pm0-"
   },
   "source": [
    "**Examine few examples of NaN values**"
   ]
  },
  {
   "cell_type": "code",
   "execution_count": 6,
   "metadata": {
    "colab": {},
    "colab_type": "code",
    "id": "3kGYpbdOPm0-",
    "scrolled": true
   },
   "outputs": [
    {
     "data": {
      "text/html": [
       "<div>\n",
       "<style scoped>\n",
       "    .dataframe tbody tr th:only-of-type {\n",
       "        vertical-align: middle;\n",
       "    }\n",
       "\n",
       "    .dataframe tbody tr th {\n",
       "        vertical-align: top;\n",
       "    }\n",
       "\n",
       "    .dataframe thead th {\n",
       "        text-align: right;\n",
       "    }\n",
       "</style>\n",
       "<table border=\"1\" class=\"dataframe\">\n",
       "  <thead>\n",
       "    <tr style=\"text-align: right;\">\n",
       "      <th></th>\n",
       "      <th>InvoiceNo</th>\n",
       "      <th>StockCode</th>\n",
       "      <th>Description</th>\n",
       "      <th>Quantity</th>\n",
       "      <th>InvoiceDate</th>\n",
       "      <th>UnitPrice</th>\n",
       "      <th>CustomerID</th>\n",
       "      <th>Country</th>\n",
       "    </tr>\n",
       "  </thead>\n",
       "  <tbody>\n",
       "    <tr>\n",
       "      <th>622</th>\n",
       "      <td>536414</td>\n",
       "      <td>22139</td>\n",
       "      <td>NaN</td>\n",
       "      <td>56</td>\n",
       "      <td>12/1/10 11:52</td>\n",
       "      <td>0.00</td>\n",
       "      <td>NaN</td>\n",
       "      <td>United Kingdom</td>\n",
       "    </tr>\n",
       "    <tr>\n",
       "      <th>1443</th>\n",
       "      <td>536544</td>\n",
       "      <td>21773</td>\n",
       "      <td>DECORATIVE ROSE BATHROOM BOTTLE</td>\n",
       "      <td>1</td>\n",
       "      <td>12/1/10 14:32</td>\n",
       "      <td>2.51</td>\n",
       "      <td>NaN</td>\n",
       "      <td>United Kingdom</td>\n",
       "    </tr>\n",
       "    <tr>\n",
       "      <th>1444</th>\n",
       "      <td>536544</td>\n",
       "      <td>21774</td>\n",
       "      <td>DECORATIVE CATS BATHROOM BOTTLE</td>\n",
       "      <td>2</td>\n",
       "      <td>12/1/10 14:32</td>\n",
       "      <td>2.51</td>\n",
       "      <td>NaN</td>\n",
       "      <td>United Kingdom</td>\n",
       "    </tr>\n",
       "    <tr>\n",
       "      <th>1445</th>\n",
       "      <td>536544</td>\n",
       "      <td>21786</td>\n",
       "      <td>POLKADOT RAIN HAT</td>\n",
       "      <td>4</td>\n",
       "      <td>12/1/10 14:32</td>\n",
       "      <td>0.85</td>\n",
       "      <td>NaN</td>\n",
       "      <td>United Kingdom</td>\n",
       "    </tr>\n",
       "    <tr>\n",
       "      <th>1446</th>\n",
       "      <td>536544</td>\n",
       "      <td>21787</td>\n",
       "      <td>RAIN PONCHO RETROSPOT</td>\n",
       "      <td>2</td>\n",
       "      <td>12/1/10 14:32</td>\n",
       "      <td>1.66</td>\n",
       "      <td>NaN</td>\n",
       "      <td>United Kingdom</td>\n",
       "    </tr>\n",
       "    <tr>\n",
       "      <th>1447</th>\n",
       "      <td>536544</td>\n",
       "      <td>21790</td>\n",
       "      <td>VINTAGE SNAP CARDS</td>\n",
       "      <td>9</td>\n",
       "      <td>12/1/10 14:32</td>\n",
       "      <td>1.66</td>\n",
       "      <td>NaN</td>\n",
       "      <td>United Kingdom</td>\n",
       "    </tr>\n",
       "    <tr>\n",
       "      <th>1448</th>\n",
       "      <td>536544</td>\n",
       "      <td>21791</td>\n",
       "      <td>VINTAGE HEADS AND TAILS CARD GAME</td>\n",
       "      <td>2</td>\n",
       "      <td>12/1/10 14:32</td>\n",
       "      <td>2.51</td>\n",
       "      <td>NaN</td>\n",
       "      <td>United Kingdom</td>\n",
       "    </tr>\n",
       "    <tr>\n",
       "      <th>1449</th>\n",
       "      <td>536544</td>\n",
       "      <td>21801</td>\n",
       "      <td>CHRISTMAS TREE DECORATION WITH BELL</td>\n",
       "      <td>10</td>\n",
       "      <td>12/1/10 14:32</td>\n",
       "      <td>0.43</td>\n",
       "      <td>NaN</td>\n",
       "      <td>United Kingdom</td>\n",
       "    </tr>\n",
       "    <tr>\n",
       "      <th>1450</th>\n",
       "      <td>536544</td>\n",
       "      <td>21802</td>\n",
       "      <td>CHRISTMAS TREE HEART DECORATION</td>\n",
       "      <td>9</td>\n",
       "      <td>12/1/10 14:32</td>\n",
       "      <td>0.43</td>\n",
       "      <td>NaN</td>\n",
       "      <td>United Kingdom</td>\n",
       "    </tr>\n",
       "    <tr>\n",
       "      <th>1451</th>\n",
       "      <td>536544</td>\n",
       "      <td>21803</td>\n",
       "      <td>CHRISTMAS TREE STAR DECORATION</td>\n",
       "      <td>11</td>\n",
       "      <td>12/1/10 14:32</td>\n",
       "      <td>0.43</td>\n",
       "      <td>NaN</td>\n",
       "      <td>United Kingdom</td>\n",
       "    </tr>\n",
       "    <tr>\n",
       "      <th>1452</th>\n",
       "      <td>536544</td>\n",
       "      <td>21809</td>\n",
       "      <td>CHRISTMAS HANGING TREE WITH BELL</td>\n",
       "      <td>1</td>\n",
       "      <td>12/1/10 14:32</td>\n",
       "      <td>2.51</td>\n",
       "      <td>NaN</td>\n",
       "      <td>United Kingdom</td>\n",
       "    </tr>\n",
       "    <tr>\n",
       "      <th>1453</th>\n",
       "      <td>536544</td>\n",
       "      <td>21810</td>\n",
       "      <td>CHRISTMAS HANGING STAR WITH BELL</td>\n",
       "      <td>3</td>\n",
       "      <td>12/1/10 14:32</td>\n",
       "      <td>2.51</td>\n",
       "      <td>NaN</td>\n",
       "      <td>United Kingdom</td>\n",
       "    </tr>\n",
       "    <tr>\n",
       "      <th>1454</th>\n",
       "      <td>536544</td>\n",
       "      <td>21811</td>\n",
       "      <td>CHRISTMAS HANGING HEART WITH BELL</td>\n",
       "      <td>1</td>\n",
       "      <td>12/1/10 14:32</td>\n",
       "      <td>2.51</td>\n",
       "      <td>NaN</td>\n",
       "      <td>United Kingdom</td>\n",
       "    </tr>\n",
       "    <tr>\n",
       "      <th>1455</th>\n",
       "      <td>536544</td>\n",
       "      <td>21821</td>\n",
       "      <td>GLITTER STAR GARLAND WITH BELLS</td>\n",
       "      <td>1</td>\n",
       "      <td>12/1/10 14:32</td>\n",
       "      <td>7.62</td>\n",
       "      <td>NaN</td>\n",
       "      <td>United Kingdom</td>\n",
       "    </tr>\n",
       "    <tr>\n",
       "      <th>1456</th>\n",
       "      <td>536544</td>\n",
       "      <td>21822</td>\n",
       "      <td>GLITTER CHRISTMAS TREE WITH BELLS</td>\n",
       "      <td>1</td>\n",
       "      <td>12/1/10 14:32</td>\n",
       "      <td>4.21</td>\n",
       "      <td>NaN</td>\n",
       "      <td>United Kingdom</td>\n",
       "    </tr>\n",
       "    <tr>\n",
       "      <th>1457</th>\n",
       "      <td>536544</td>\n",
       "      <td>21823</td>\n",
       "      <td>PAINTED METAL HEART WITH HOLLY BELL</td>\n",
       "      <td>2</td>\n",
       "      <td>12/1/10 14:32</td>\n",
       "      <td>2.98</td>\n",
       "      <td>NaN</td>\n",
       "      <td>United Kingdom</td>\n",
       "    </tr>\n",
       "    <tr>\n",
       "      <th>1458</th>\n",
       "      <td>536544</td>\n",
       "      <td>21844</td>\n",
       "      <td>RED RETROSPOT MUG</td>\n",
       "      <td>2</td>\n",
       "      <td>12/1/10 14:32</td>\n",
       "      <td>5.91</td>\n",
       "      <td>NaN</td>\n",
       "      <td>United Kingdom</td>\n",
       "    </tr>\n",
       "    <tr>\n",
       "      <th>1459</th>\n",
       "      <td>536544</td>\n",
       "      <td>21851</td>\n",
       "      <td>LILAC DIAMANTE PEN IN GIFT BOX</td>\n",
       "      <td>1</td>\n",
       "      <td>12/1/10 14:32</td>\n",
       "      <td>4.21</td>\n",
       "      <td>NaN</td>\n",
       "      <td>United Kingdom</td>\n",
       "    </tr>\n",
       "    <tr>\n",
       "      <th>1460</th>\n",
       "      <td>536544</td>\n",
       "      <td>21870</td>\n",
       "      <td>I CAN ONLY PLEASE ONE PERSON MUG</td>\n",
       "      <td>1</td>\n",
       "      <td>12/1/10 14:32</td>\n",
       "      <td>3.36</td>\n",
       "      <td>NaN</td>\n",
       "      <td>United Kingdom</td>\n",
       "    </tr>\n",
       "    <tr>\n",
       "      <th>1461</th>\n",
       "      <td>536544</td>\n",
       "      <td>21871</td>\n",
       "      <td>SAVE THE PLANET MUG</td>\n",
       "      <td>5</td>\n",
       "      <td>12/1/10 14:32</td>\n",
       "      <td>3.36</td>\n",
       "      <td>NaN</td>\n",
       "      <td>United Kingdom</td>\n",
       "    </tr>\n",
       "    <tr>\n",
       "      <th>1462</th>\n",
       "      <td>536544</td>\n",
       "      <td>21874</td>\n",
       "      <td>GIN AND TONIC MUG</td>\n",
       "      <td>1</td>\n",
       "      <td>12/1/10 14:32</td>\n",
       "      <td>3.36</td>\n",
       "      <td>NaN</td>\n",
       "      <td>United Kingdom</td>\n",
       "    </tr>\n",
       "    <tr>\n",
       "      <th>1463</th>\n",
       "      <td>536544</td>\n",
       "      <td>21879</td>\n",
       "      <td>HEARTS GIFT TAPE</td>\n",
       "      <td>1</td>\n",
       "      <td>12/1/10 14:32</td>\n",
       "      <td>1.66</td>\n",
       "      <td>NaN</td>\n",
       "      <td>United Kingdom</td>\n",
       "    </tr>\n",
       "    <tr>\n",
       "      <th>1464</th>\n",
       "      <td>536544</td>\n",
       "      <td>21884</td>\n",
       "      <td>CAKES AND BOWS GIFT  TAPE</td>\n",
       "      <td>1</td>\n",
       "      <td>12/1/10 14:32</td>\n",
       "      <td>1.66</td>\n",
       "      <td>NaN</td>\n",
       "      <td>United Kingdom</td>\n",
       "    </tr>\n",
       "    <tr>\n",
       "      <th>1465</th>\n",
       "      <td>536544</td>\n",
       "      <td>21888</td>\n",
       "      <td>BINGO SET</td>\n",
       "      <td>1</td>\n",
       "      <td>12/1/10 14:32</td>\n",
       "      <td>7.62</td>\n",
       "      <td>NaN</td>\n",
       "      <td>United Kingdom</td>\n",
       "    </tr>\n",
       "    <tr>\n",
       "      <th>1466</th>\n",
       "      <td>536544</td>\n",
       "      <td>21889</td>\n",
       "      <td>WOODEN BOX OF DOMINOES</td>\n",
       "      <td>2</td>\n",
       "      <td>12/1/10 14:32</td>\n",
       "      <td>2.51</td>\n",
       "      <td>NaN</td>\n",
       "      <td>United Kingdom</td>\n",
       "    </tr>\n",
       "    <tr>\n",
       "      <th>1467</th>\n",
       "      <td>536544</td>\n",
       "      <td>21892</td>\n",
       "      <td>TRADITIONAL WOODEN CATCH CUP GAME</td>\n",
       "      <td>3</td>\n",
       "      <td>12/1/10 14:32</td>\n",
       "      <td>2.51</td>\n",
       "      <td>NaN</td>\n",
       "      <td>United Kingdom</td>\n",
       "    </tr>\n",
       "    <tr>\n",
       "      <th>1468</th>\n",
       "      <td>536544</td>\n",
       "      <td>21894</td>\n",
       "      <td>POTTING SHED SEED ENVELOPES</td>\n",
       "      <td>1</td>\n",
       "      <td>12/1/10 14:32</td>\n",
       "      <td>2.51</td>\n",
       "      <td>NaN</td>\n",
       "      <td>United Kingdom</td>\n",
       "    </tr>\n",
       "    <tr>\n",
       "      <th>1469</th>\n",
       "      <td>536544</td>\n",
       "      <td>21911</td>\n",
       "      <td>GARDEN METAL SIGN</td>\n",
       "      <td>1</td>\n",
       "      <td>12/1/10 14:32</td>\n",
       "      <td>3.36</td>\n",
       "      <td>NaN</td>\n",
       "      <td>United Kingdom</td>\n",
       "    </tr>\n",
       "    <tr>\n",
       "      <th>1470</th>\n",
       "      <td>536544</td>\n",
       "      <td>21912</td>\n",
       "      <td>VINTAGE SNAKES &amp; LADDERS</td>\n",
       "      <td>3</td>\n",
       "      <td>12/1/10 14:32</td>\n",
       "      <td>7.62</td>\n",
       "      <td>NaN</td>\n",
       "      <td>United Kingdom</td>\n",
       "    </tr>\n",
       "    <tr>\n",
       "      <th>1471</th>\n",
       "      <td>536544</td>\n",
       "      <td>21913</td>\n",
       "      <td>VINTAGE SEASIDE JIGSAW PUZZLES</td>\n",
       "      <td>1</td>\n",
       "      <td>12/1/10 14:32</td>\n",
       "      <td>7.62</td>\n",
       "      <td>NaN</td>\n",
       "      <td>United Kingdom</td>\n",
       "    </tr>\n",
       "    <tr>\n",
       "      <th>...</th>\n",
       "      <td>...</td>\n",
       "      <td>...</td>\n",
       "      <td>...</td>\n",
       "      <td>...</td>\n",
       "      <td>...</td>\n",
       "      <td>...</td>\n",
       "      <td>...</td>\n",
       "      <td>...</td>\n",
       "    </tr>\n",
       "    <tr>\n",
       "      <th>497632</th>\n",
       "      <td>578431</td>\n",
       "      <td>22579</td>\n",
       "      <td>NaN</td>\n",
       "      <td>-18</td>\n",
       "      <td>11/24/11 12:15</td>\n",
       "      <td>0.00</td>\n",
       "      <td>NaN</td>\n",
       "      <td>United Kingdom</td>\n",
       "    </tr>\n",
       "    <tr>\n",
       "      <th>497677</th>\n",
       "      <td>578456</td>\n",
       "      <td>22579</td>\n",
       "      <td>NaN</td>\n",
       "      <td>11</td>\n",
       "      <td>11/24/11 12:29</td>\n",
       "      <td>0.00</td>\n",
       "      <td>NaN</td>\n",
       "      <td>United Kingdom</td>\n",
       "    </tr>\n",
       "    <tr>\n",
       "      <th>498597</th>\n",
       "      <td>578529</td>\n",
       "      <td>22087</td>\n",
       "      <td>NaN</td>\n",
       "      <td>-23</td>\n",
       "      <td>11/24/11 14:29</td>\n",
       "      <td>0.00</td>\n",
       "      <td>NaN</td>\n",
       "      <td>United Kingdom</td>\n",
       "    </tr>\n",
       "    <tr>\n",
       "      <th>499156</th>\n",
       "      <td>578628</td>\n",
       "      <td>23541</td>\n",
       "      <td>NaN</td>\n",
       "      <td>20</td>\n",
       "      <td>11/24/11 15:55</td>\n",
       "      <td>0.00</td>\n",
       "      <td>NaN</td>\n",
       "      <td>United Kingdom</td>\n",
       "    </tr>\n",
       "    <tr>\n",
       "      <th>499157</th>\n",
       "      <td>578629</td>\n",
       "      <td>22943</td>\n",
       "      <td>NaN</td>\n",
       "      <td>24</td>\n",
       "      <td>11/24/11 15:56</td>\n",
       "      <td>0.00</td>\n",
       "      <td>NaN</td>\n",
       "      <td>United Kingdom</td>\n",
       "    </tr>\n",
       "    <tr>\n",
       "      <th>499169</th>\n",
       "      <td>578632</td>\n",
       "      <td>22579</td>\n",
       "      <td>NaN</td>\n",
       "      <td>4</td>\n",
       "      <td>11/24/11 16:22</td>\n",
       "      <td>0.00</td>\n",
       "      <td>NaN</td>\n",
       "      <td>United Kingdom</td>\n",
       "    </tr>\n",
       "    <tr>\n",
       "      <th>499787</th>\n",
       "      <td>578693</td>\n",
       "      <td>21811</td>\n",
       "      <td>NaN</td>\n",
       "      <td>1</td>\n",
       "      <td>11/25/11 9:38</td>\n",
       "      <td>0.00</td>\n",
       "      <td>NaN</td>\n",
       "      <td>United Kingdom</td>\n",
       "    </tr>\n",
       "    <tr>\n",
       "      <th>500161</th>\n",
       "      <td>578738</td>\n",
       "      <td>21638</td>\n",
       "      <td>NaN</td>\n",
       "      <td>-33</td>\n",
       "      <td>11/25/11 11:33</td>\n",
       "      <td>0.00</td>\n",
       "      <td>NaN</td>\n",
       "      <td>United Kingdom</td>\n",
       "    </tr>\n",
       "    <tr>\n",
       "      <th>508796</th>\n",
       "      <td>579272</td>\n",
       "      <td>22812</td>\n",
       "      <td>NaN</td>\n",
       "      <td>2</td>\n",
       "      <td>11/29/11 10:00</td>\n",
       "      <td>0.00</td>\n",
       "      <td>NaN</td>\n",
       "      <td>United Kingdom</td>\n",
       "    </tr>\n",
       "    <tr>\n",
       "      <th>510622</th>\n",
       "      <td>579460</td>\n",
       "      <td>21110</td>\n",
       "      <td>NaN</td>\n",
       "      <td>-151</td>\n",
       "      <td>11/29/11 14:39</td>\n",
       "      <td>0.00</td>\n",
       "      <td>NaN</td>\n",
       "      <td>United Kingdom</td>\n",
       "    </tr>\n",
       "    <tr>\n",
       "      <th>511451</th>\n",
       "      <td>579500</td>\n",
       "      <td>22810</td>\n",
       "      <td>NaN</td>\n",
       "      <td>33</td>\n",
       "      <td>11/29/11 16:14</td>\n",
       "      <td>0.00</td>\n",
       "      <td>NaN</td>\n",
       "      <td>United Kingdom</td>\n",
       "    </tr>\n",
       "    <tr>\n",
       "      <th>514205</th>\n",
       "      <td>579688</td>\n",
       "      <td>21116</td>\n",
       "      <td>NaN</td>\n",
       "      <td>-33</td>\n",
       "      <td>11/30/11 13:51</td>\n",
       "      <td>0.00</td>\n",
       "      <td>NaN</td>\n",
       "      <td>United Kingdom</td>\n",
       "    </tr>\n",
       "    <tr>\n",
       "      <th>514287</th>\n",
       "      <td>579691</td>\n",
       "      <td>47503A</td>\n",
       "      <td>NaN</td>\n",
       "      <td>-5</td>\n",
       "      <td>11/30/11 14:05</td>\n",
       "      <td>0.00</td>\n",
       "      <td>NaN</td>\n",
       "      <td>United Kingdom</td>\n",
       "    </tr>\n",
       "    <tr>\n",
       "      <th>514651</th>\n",
       "      <td>579738</td>\n",
       "      <td>21927</td>\n",
       "      <td>NaN</td>\n",
       "      <td>8</td>\n",
       "      <td>11/30/11 14:26</td>\n",
       "      <td>0.00</td>\n",
       "      <td>NaN</td>\n",
       "      <td>United Kingdom</td>\n",
       "    </tr>\n",
       "    <tr>\n",
       "      <th>516189</th>\n",
       "      <td>579880</td>\n",
       "      <td>22947</td>\n",
       "      <td>NaN</td>\n",
       "      <td>5</td>\n",
       "      <td>11/30/11 17:14</td>\n",
       "      <td>0.00</td>\n",
       "      <td>NaN</td>\n",
       "      <td>United Kingdom</td>\n",
       "    </tr>\n",
       "    <tr>\n",
       "      <th>517719</th>\n",
       "      <td>580087</td>\n",
       "      <td>84341B</td>\n",
       "      <td>NaN</td>\n",
       "      <td>-2</td>\n",
       "      <td>12/1/11 14:27</td>\n",
       "      <td>0.00</td>\n",
       "      <td>NaN</td>\n",
       "      <td>United Kingdom</td>\n",
       "    </tr>\n",
       "    <tr>\n",
       "      <th>519967</th>\n",
       "      <td>580197</td>\n",
       "      <td>22696</td>\n",
       "      <td>NaN</td>\n",
       "      <td>6</td>\n",
       "      <td>12/2/11 12:04</td>\n",
       "      <td>0.00</td>\n",
       "      <td>NaN</td>\n",
       "      <td>United Kingdom</td>\n",
       "    </tr>\n",
       "    <tr>\n",
       "      <th>521333</th>\n",
       "      <td>580359</td>\n",
       "      <td>20775</td>\n",
       "      <td>NaN</td>\n",
       "      <td>-35</td>\n",
       "      <td>12/2/11 16:11</td>\n",
       "      <td>0.00</td>\n",
       "      <td>NaN</td>\n",
       "      <td>United Kingdom</td>\n",
       "    </tr>\n",
       "    <tr>\n",
       "      <th>522160</th>\n",
       "      <td>580379</td>\n",
       "      <td>72225C</td>\n",
       "      <td>NaN</td>\n",
       "      <td>-144</td>\n",
       "      <td>12/2/11 17:57</td>\n",
       "      <td>0.00</td>\n",
       "      <td>NaN</td>\n",
       "      <td>United Kingdom</td>\n",
       "    </tr>\n",
       "    <tr>\n",
       "      <th>522162</th>\n",
       "      <td>580381</td>\n",
       "      <td>21758</td>\n",
       "      <td>NaN</td>\n",
       "      <td>-9</td>\n",
       "      <td>12/2/11 17:58</td>\n",
       "      <td>0.00</td>\n",
       "      <td>NaN</td>\n",
       "      <td>United Kingdom</td>\n",
       "    </tr>\n",
       "    <tr>\n",
       "      <th>524473</th>\n",
       "      <td>580580</td>\n",
       "      <td>21804</td>\n",
       "      <td>NaN</td>\n",
       "      <td>10</td>\n",
       "      <td>12/5/11 10:33</td>\n",
       "      <td>0.00</td>\n",
       "      <td>NaN</td>\n",
       "      <td>United Kingdom</td>\n",
       "    </tr>\n",
       "    <tr>\n",
       "      <th>524475</th>\n",
       "      <td>580588</td>\n",
       "      <td>21808</td>\n",
       "      <td>NaN</td>\n",
       "      <td>5</td>\n",
       "      <td>12/5/11 10:35</td>\n",
       "      <td>0.00</td>\n",
       "      <td>NaN</td>\n",
       "      <td>United Kingdom</td>\n",
       "    </tr>\n",
       "    <tr>\n",
       "      <th>529667</th>\n",
       "      <td>580743</td>\n",
       "      <td>47591B</td>\n",
       "      <td>NaN</td>\n",
       "      <td>1</td>\n",
       "      <td>12/6/11 9:30</td>\n",
       "      <td>0.00</td>\n",
       "      <td>NaN</td>\n",
       "      <td>United Kingdom</td>\n",
       "    </tr>\n",
       "    <tr>\n",
       "      <th>533711</th>\n",
       "      <td>581102</td>\n",
       "      <td>21803</td>\n",
       "      <td>NaN</td>\n",
       "      <td>20</td>\n",
       "      <td>12/7/11 11:57</td>\n",
       "      <td>0.00</td>\n",
       "      <td>NaN</td>\n",
       "      <td>United Kingdom</td>\n",
       "    </tr>\n",
       "    <tr>\n",
       "      <th>533712</th>\n",
       "      <td>581103</td>\n",
       "      <td>22689</td>\n",
       "      <td>NaN</td>\n",
       "      <td>4</td>\n",
       "      <td>12/7/11 11:58</td>\n",
       "      <td>0.00</td>\n",
       "      <td>NaN</td>\n",
       "      <td>United Kingdom</td>\n",
       "    </tr>\n",
       "    <tr>\n",
       "      <th>535322</th>\n",
       "      <td>581199</td>\n",
       "      <td>84581</td>\n",
       "      <td>NaN</td>\n",
       "      <td>-2</td>\n",
       "      <td>12/7/11 18:26</td>\n",
       "      <td>0.00</td>\n",
       "      <td>NaN</td>\n",
       "      <td>United Kingdom</td>\n",
       "    </tr>\n",
       "    <tr>\n",
       "      <th>535326</th>\n",
       "      <td>581203</td>\n",
       "      <td>23406</td>\n",
       "      <td>NaN</td>\n",
       "      <td>15</td>\n",
       "      <td>12/7/11 18:31</td>\n",
       "      <td>0.00</td>\n",
       "      <td>NaN</td>\n",
       "      <td>United Kingdom</td>\n",
       "    </tr>\n",
       "    <tr>\n",
       "      <th>535332</th>\n",
       "      <td>581209</td>\n",
       "      <td>21620</td>\n",
       "      <td>NaN</td>\n",
       "      <td>6</td>\n",
       "      <td>12/7/11 18:35</td>\n",
       "      <td>0.00</td>\n",
       "      <td>NaN</td>\n",
       "      <td>United Kingdom</td>\n",
       "    </tr>\n",
       "    <tr>\n",
       "      <th>536981</th>\n",
       "      <td>581234</td>\n",
       "      <td>72817</td>\n",
       "      <td>NaN</td>\n",
       "      <td>27</td>\n",
       "      <td>12/8/11 10:33</td>\n",
       "      <td>0.00</td>\n",
       "      <td>NaN</td>\n",
       "      <td>United Kingdom</td>\n",
       "    </tr>\n",
       "    <tr>\n",
       "      <th>538554</th>\n",
       "      <td>581408</td>\n",
       "      <td>85175</td>\n",
       "      <td>NaN</td>\n",
       "      <td>20</td>\n",
       "      <td>12/8/11 14:06</td>\n",
       "      <td>0.00</td>\n",
       "      <td>NaN</td>\n",
       "      <td>United Kingdom</td>\n",
       "    </tr>\n",
       "  </tbody>\n",
       "</table>\n",
       "<p>136534 rows × 8 columns</p>\n",
       "</div>"
      ],
      "text/plain": [
       "       InvoiceNo StockCode                          Description  Quantity  \\\n",
       "622       536414     22139                                  NaN        56   \n",
       "1443      536544     21773      DECORATIVE ROSE BATHROOM BOTTLE         1   \n",
       "1444      536544     21774      DECORATIVE CATS BATHROOM BOTTLE         2   \n",
       "1445      536544     21786                   POLKADOT RAIN HAT          4   \n",
       "1446      536544     21787                RAIN PONCHO RETROSPOT         2   \n",
       "1447      536544     21790                   VINTAGE SNAP CARDS         9   \n",
       "1448      536544     21791   VINTAGE HEADS AND TAILS CARD GAME          2   \n",
       "1449      536544     21801  CHRISTMAS TREE DECORATION WITH BELL        10   \n",
       "1450      536544     21802      CHRISTMAS TREE HEART DECORATION         9   \n",
       "1451      536544     21803       CHRISTMAS TREE STAR DECORATION        11   \n",
       "1452      536544     21809     CHRISTMAS HANGING TREE WITH BELL         1   \n",
       "1453      536544     21810     CHRISTMAS HANGING STAR WITH BELL         3   \n",
       "1454      536544     21811    CHRISTMAS HANGING HEART WITH BELL         1   \n",
       "1455      536544     21821     GLITTER STAR GARLAND WITH BELLS          1   \n",
       "1456      536544     21822    GLITTER CHRISTMAS TREE WITH BELLS         1   \n",
       "1457      536544     21823  PAINTED METAL HEART WITH HOLLY BELL         2   \n",
       "1458      536544     21844                    RED RETROSPOT MUG         2   \n",
       "1459      536544     21851       LILAC DIAMANTE PEN IN GIFT BOX         1   \n",
       "1460      536544     21870     I CAN ONLY PLEASE ONE PERSON MUG         1   \n",
       "1461      536544     21871                  SAVE THE PLANET MUG         5   \n",
       "1462      536544     21874                    GIN AND TONIC MUG         1   \n",
       "1463      536544     21879                     HEARTS GIFT TAPE         1   \n",
       "1464      536544     21884            CAKES AND BOWS GIFT  TAPE         1   \n",
       "1465      536544     21888                            BINGO SET         1   \n",
       "1466      536544     21889               WOODEN BOX OF DOMINOES         2   \n",
       "1467      536544     21892   TRADITIONAL WOODEN CATCH CUP GAME          3   \n",
       "1468      536544     21894          POTTING SHED SEED ENVELOPES         1   \n",
       "1469      536544     21911                   GARDEN METAL SIGN          1   \n",
       "1470      536544     21912             VINTAGE SNAKES & LADDERS         3   \n",
       "1471      536544     21913       VINTAGE SEASIDE JIGSAW PUZZLES         1   \n",
       "...          ...       ...                                  ...       ...   \n",
       "497632    578431     22579                                  NaN       -18   \n",
       "497677    578456     22579                                  NaN        11   \n",
       "498597    578529     22087                                  NaN       -23   \n",
       "499156    578628     23541                                  NaN        20   \n",
       "499157    578629     22943                                  NaN        24   \n",
       "499169    578632     22579                                  NaN         4   \n",
       "499787    578693     21811                                  NaN         1   \n",
       "500161    578738     21638                                  NaN       -33   \n",
       "508796    579272     22812                                  NaN         2   \n",
       "510622    579460     21110                                  NaN      -151   \n",
       "511451    579500     22810                                  NaN        33   \n",
       "514205    579688     21116                                  NaN       -33   \n",
       "514287    579691    47503A                                  NaN        -5   \n",
       "514651    579738     21927                                  NaN         8   \n",
       "516189    579880     22947                                  NaN         5   \n",
       "517719    580087    84341B                                  NaN        -2   \n",
       "519967    580197     22696                                  NaN         6   \n",
       "521333    580359     20775                                  NaN       -35   \n",
       "522160    580379    72225C                                  NaN      -144   \n",
       "522162    580381     21758                                  NaN        -9   \n",
       "524473    580580     21804                                  NaN        10   \n",
       "524475    580588     21808                                  NaN         5   \n",
       "529667    580743    47591B                                  NaN         1   \n",
       "533711    581102     21803                                  NaN        20   \n",
       "533712    581103     22689                                  NaN         4   \n",
       "535322    581199     84581                                  NaN        -2   \n",
       "535326    581203     23406                                  NaN        15   \n",
       "535332    581209     21620                                  NaN         6   \n",
       "536981    581234     72817                                  NaN        27   \n",
       "538554    581408     85175                                  NaN        20   \n",
       "\n",
       "           InvoiceDate  UnitPrice  CustomerID         Country  \n",
       "622      12/1/10 11:52       0.00         NaN  United Kingdom  \n",
       "1443     12/1/10 14:32       2.51         NaN  United Kingdom  \n",
       "1444     12/1/10 14:32       2.51         NaN  United Kingdom  \n",
       "1445     12/1/10 14:32       0.85         NaN  United Kingdom  \n",
       "1446     12/1/10 14:32       1.66         NaN  United Kingdom  \n",
       "1447     12/1/10 14:32       1.66         NaN  United Kingdom  \n",
       "1448     12/1/10 14:32       2.51         NaN  United Kingdom  \n",
       "1449     12/1/10 14:32       0.43         NaN  United Kingdom  \n",
       "1450     12/1/10 14:32       0.43         NaN  United Kingdom  \n",
       "1451     12/1/10 14:32       0.43         NaN  United Kingdom  \n",
       "1452     12/1/10 14:32       2.51         NaN  United Kingdom  \n",
       "1453     12/1/10 14:32       2.51         NaN  United Kingdom  \n",
       "1454     12/1/10 14:32       2.51         NaN  United Kingdom  \n",
       "1455     12/1/10 14:32       7.62         NaN  United Kingdom  \n",
       "1456     12/1/10 14:32       4.21         NaN  United Kingdom  \n",
       "1457     12/1/10 14:32       2.98         NaN  United Kingdom  \n",
       "1458     12/1/10 14:32       5.91         NaN  United Kingdom  \n",
       "1459     12/1/10 14:32       4.21         NaN  United Kingdom  \n",
       "1460     12/1/10 14:32       3.36         NaN  United Kingdom  \n",
       "1461     12/1/10 14:32       3.36         NaN  United Kingdom  \n",
       "1462     12/1/10 14:32       3.36         NaN  United Kingdom  \n",
       "1463     12/1/10 14:32       1.66         NaN  United Kingdom  \n",
       "1464     12/1/10 14:32       1.66         NaN  United Kingdom  \n",
       "1465     12/1/10 14:32       7.62         NaN  United Kingdom  \n",
       "1466     12/1/10 14:32       2.51         NaN  United Kingdom  \n",
       "1467     12/1/10 14:32       2.51         NaN  United Kingdom  \n",
       "1468     12/1/10 14:32       2.51         NaN  United Kingdom  \n",
       "1469     12/1/10 14:32       3.36         NaN  United Kingdom  \n",
       "1470     12/1/10 14:32       7.62         NaN  United Kingdom  \n",
       "1471     12/1/10 14:32       7.62         NaN  United Kingdom  \n",
       "...                ...        ...         ...             ...  \n",
       "497632  11/24/11 12:15       0.00         NaN  United Kingdom  \n",
       "497677  11/24/11 12:29       0.00         NaN  United Kingdom  \n",
       "498597  11/24/11 14:29       0.00         NaN  United Kingdom  \n",
       "499156  11/24/11 15:55       0.00         NaN  United Kingdom  \n",
       "499157  11/24/11 15:56       0.00         NaN  United Kingdom  \n",
       "499169  11/24/11 16:22       0.00         NaN  United Kingdom  \n",
       "499787   11/25/11 9:38       0.00         NaN  United Kingdom  \n",
       "500161  11/25/11 11:33       0.00         NaN  United Kingdom  \n",
       "508796  11/29/11 10:00       0.00         NaN  United Kingdom  \n",
       "510622  11/29/11 14:39       0.00         NaN  United Kingdom  \n",
       "511451  11/29/11 16:14       0.00         NaN  United Kingdom  \n",
       "514205  11/30/11 13:51       0.00         NaN  United Kingdom  \n",
       "514287  11/30/11 14:05       0.00         NaN  United Kingdom  \n",
       "514651  11/30/11 14:26       0.00         NaN  United Kingdom  \n",
       "516189  11/30/11 17:14       0.00         NaN  United Kingdom  \n",
       "517719   12/1/11 14:27       0.00         NaN  United Kingdom  \n",
       "519967   12/2/11 12:04       0.00         NaN  United Kingdom  \n",
       "521333   12/2/11 16:11       0.00         NaN  United Kingdom  \n",
       "522160   12/2/11 17:57       0.00         NaN  United Kingdom  \n",
       "522162   12/2/11 17:58       0.00         NaN  United Kingdom  \n",
       "524473   12/5/11 10:33       0.00         NaN  United Kingdom  \n",
       "524475   12/5/11 10:35       0.00         NaN  United Kingdom  \n",
       "529667    12/6/11 9:30       0.00         NaN  United Kingdom  \n",
       "533711   12/7/11 11:57       0.00         NaN  United Kingdom  \n",
       "533712   12/7/11 11:58       0.00         NaN  United Kingdom  \n",
       "535322   12/7/11 18:26       0.00         NaN  United Kingdom  \n",
       "535326   12/7/11 18:31       0.00         NaN  United Kingdom  \n",
       "535332   12/7/11 18:35       0.00         NaN  United Kingdom  \n",
       "536981   12/8/11 10:33       0.00         NaN  United Kingdom  \n",
       "538554   12/8/11 14:06       0.00         NaN  United Kingdom  \n",
       "\n",
       "[136534 rows x 8 columns]"
      ]
     },
     "execution_count": 6,
     "metadata": {},
     "output_type": "execute_result"
    }
   ],
   "source": [
    "# List all NaN values\n",
    "Onl[Onl['CustomerID'].isnull()].append(Onl[Onl['Description'].isnull()])"
   ]
  },
  {
   "cell_type": "markdown",
   "metadata": {
    "colab_type": "text",
    "id": "OpAhltPeHaLR"
   },
   "source": [
    "**Exclude negative Quatity entries**"
   ]
  },
  {
   "cell_type": "code",
   "execution_count": 7,
   "metadata": {},
   "outputs": [
    {
     "data": {
      "text/plain": [
       "Int64Index([   141,    154,    235,    236,    237,    238,    239,    240,\n",
       "               241,    939,\n",
       "            ...\n",
       "            540141, 540142, 540176, 540422, 540448, 540449, 541541, 541715,\n",
       "            541716, 541717],\n",
       "           dtype='int64', length=10624)"
      ]
     },
     "execution_count": 7,
     "metadata": {},
     "output_type": "execute_result"
    }
   ],
   "source": [
    "Onl[Onl.Quantity < 0].index"
   ]
  },
  {
   "cell_type": "code",
   "execution_count": 8,
   "metadata": {
    "colab": {},
    "colab_type": "code",
    "id": "71F-5PY-HZ6T"
   },
   "outputs": [],
   "source": [
    "#Xóa các labels thuộc Quantity âm lấy ra từ index Onl[Onl.Quantity < 0]\n",
    "Onl.drop(labels = Onl[Onl.Quantity < 0].index, inplace = True)"
   ]
  },
  {
   "cell_type": "markdown",
   "metadata": {
    "colab_type": "text",
    "id": "s5idc5z2H1zJ"
   },
   "source": [
    "**Exclude negative Price entries**"
   ]
  },
  {
   "cell_type": "code",
   "execution_count": 9,
   "metadata": {
    "colab": {},
    "colab_type": "code",
    "id": "_8OdtEVFH1fr"
   },
   "outputs": [],
   "source": [
    "Onl.drop(labels = Onl[Onl.UnitPrice < 0].index, inplace = True)"
   ]
  },
  {
   "cell_type": "markdown",
   "metadata": {
    "colab_type": "text",
    "id": "Ikd1t-v3Pm17"
   },
   "source": [
    "### Step 3 - EDA"
   ]
  },
  {
   "cell_type": "markdown",
   "metadata": {
    "colab_type": "text",
    "id": "-T3iojz1If_r"
   },
   "source": [
    "**The customer with the highest number of orders comes from the United Kingdom (UK)**"
   ]
  },
  {
   "cell_type": "code",
   "execution_count": 10,
   "metadata": {},
   "outputs": [
    {
     "data": {
      "image/png": "[encoded data removed]",
      "text/plain": [
       "<Figure size 432x288 with 1 Axes>"
      ]
     },
     "metadata": {},
     "output_type": "display_data"
    }
   ],
   "source": [
    "#Your code here\n",
    "labels = []\n",
    "sizes = []\n",
    "explode = []\n",
    "\n",
    "labels = Onl['Country'].value_counts().index\n",
    "for index, size in enumerate(Onl['Country'].value_counts()):\n",
    "    sizes.append(size)\n",
    "    if labels[index]=='United Kingdom':\n",
    "        explode.append(0.2)\n",
    "    else: \n",
    "        explode.append(0)\n",
    "        \n",
    "f, ax1 = plt.subplots()\n",
    "ax1.pie(sizes, explode = explode, labels = labels, autopct='%1.1f%%',\n",
    "       shadow = True, startangle=45)\n",
    "\n",
    "ax1.axis('equal')\n",
    "plt.tight_layout()\n",
    "plt.show()"
   ]
  },
  {
   "cell_type": "markdown",
   "metadata": {
    "colab_type": "text",
    "id": "9yUfXWelIiTg"
   },
   "source": [
    "**The customer with the highest money spent on purchases comes from Netherlands**"
   ]
  },
  {
   "cell_type": "code",
   "execution_count": 11,
   "metadata": {
    "colab": {},
    "colab_type": "code",
    "id": "qCN_rIThJDRj"
   },
   "outputs": [
    {
     "data": {
      "text/plain": [
       "CustomerID\n",
       "14646.0    280206.02\n",
       "18102.0    259657.30\n",
       "17450.0    194550.79\n",
       "16446.0    168472.50\n",
       "14911.0    143825.06\n",
       "Name: TotalPrice, dtype: float64"
      ]
     },
     "execution_count": 11,
     "metadata": {},
     "output_type": "execute_result"
    }
   ],
   "source": [
    "# Your code here\n",
    "#Tạo một cột mới với label là TotalPrice\n",
    "Onl['TotalPrice'] = (Onl.Quantity)*(Onl.UnitPrice)\n",
    "#Tổng hợp lại khách hàng mua nhiều mặt hàng\n",
    "Onl1 = Onl.groupby('CustomerID').sum()\n",
    "#Làm thủ công bằng cách show ID người tiêu nhiều nhất\n",
    "Onl1.TotalPrice.nlargest(5)"
   ]
  },
  {
   "cell_type": "code",
   "execution_count": 12,
   "metadata": {},
   "outputs": [
    {
     "name": "stdout",
     "output_type": "stream",
     "text": [
      "InvoiceNo       74\n",
      "StockCode      701\n",
      "Description    719\n",
      "Quantity        60\n",
      "InvoiceDate     74\n",
      "UnitPrice       75\n",
      "CustomerID       1\n",
      "Country          1\n",
      "TotalPrice     380\n",
      "dtype: int64\n",
      "-------------------------------------------\n",
      "96198    Netherlands\n",
      "Name: Country, dtype: object\n"
     ]
    }
   ],
   "source": [
    "#Check lại là đúng người\n",
    "print(Onl[Onl.CustomerID == 14646.0 ].nunique())\n",
    "#Show country của người tiêu tiền nhiều nhất (Cách làm vòng vo)\n",
    "print('-------------------------------------------')\n",
    "print(Onl.Country[Onl.CustomerID == 14646.0 ].sample(1))"
   ]
  },
  {
   "cell_type": "markdown",
   "metadata": {
    "colab_type": "text",
    "id": "UcCxS85hIwLb"
   },
   "source": [
    "**On which year had the highest sales?**"
   ]
  },
  {
   "cell_type": "code",
   "execution_count": 13,
   "metadata": {
    "colab": {},
    "colab_type": "code",
    "id": "i-7RsisUI_gc",
    "scrolled": true
   },
   "outputs": [
    {
     "data": {
      "text/plain": [
       "count             531283\n",
       "unique             19050\n",
       "top       10/31/11 14:41\n",
       "freq                1114\n",
       "Name: InvoiceDate, dtype: object"
      ]
     },
     "execution_count": 13,
     "metadata": {},
     "output_type": "execute_result"
    }
   ],
   "source": [
    "# Your code here\n",
    "Onl.InvoiceDate.describe()"
   ]
  },
  {
   "cell_type": "code",
   "execution_count": 14,
   "metadata": {
    "scrolled": true
   },
   "outputs": [
    {
     "data": {
      "text/plain": [
       "<matplotlib.axes._subplots.AxesSubplot at 0x2ae291a9668>"
      ]
     },
     "execution_count": 14,
     "metadata": {},
     "output_type": "execute_result"
    },
    {
     "data": {
      "image/png": "[encoded data removed]",
      "text/plain": [
       "<Figure size 432x288 with 1 Axes>"
      ]
     },
     "metadata": {
      "needs_background": "light"
     },
     "output_type": "display_data"
    }
   ],
   "source": [
    "#https://pandas.pydata.org/pandas-docs/version/0.23.4/generated/pandas.DatetimeIndex.html\n",
    "Onl['year'] = pd.DatetimeIndex(Onl['InvoiceDate']).year\n",
    "sns.countplot(x='year', data=Onl)"
   ]
  },
  {
   "cell_type": "code",
   "execution_count": 15,
   "metadata": {
    "scrolled": false
   },
   "outputs": [
    {
     "data": {
      "text/plain": [
       "<matplotlib.axes._subplots.AxesSubplot at 0x2ae291f3390>"
      ]
     },
     "execution_count": 15,
     "metadata": {},
     "output_type": "execute_result"
    },
    {
     "data": {
      "image/png": "[encoded data removed]",
      "text/plain": [
       "<Figure size 432x288 with 1 Axes>"
      ]
     },
     "metadata": {
      "needs_background": "light"
     },
     "output_type": "display_data"
    }
   ],
   "source": [
    "Onl['year'].value_counts().nlargest().plot(kind='bar')"
   ]
  },
  {
   "cell_type": "markdown",
   "metadata": {
    "colab_type": "text",
    "id": "W-IKvzruKHXb"
   },
   "source": [
    "**How many orders (per hour)?**"
   ]
  },
  {
   "cell_type": "code",
   "execution_count": 16,
   "metadata": {
    "colab": {},
    "colab_type": "code",
    "id": "RHS5ridWKQ4u",
    "scrolled": true
   },
   "outputs": [
    {
     "name": "stdout",
     "output_type": "stream",
     "text": [
      "35418.86666666667  Orders per hour\n"
     ]
    }
   ],
   "source": [
    "#Tạo một cột mới hour với giá trị đc lấy từ InvoiceDate\n",
    "Onl['hour'] = pd.DatetimeIndex(Onl['InvoiceDate']).hour\n",
    "#Lấy khoảng giữa\n",
    "Onl2 = Onl.groupby('hour').size().mean()\n",
    "print(Onl2,' Orders per hour')"
   ]
  },
  {
   "cell_type": "markdown",
   "metadata": {
    "colab_type": "text",
    "id": "dqCZUmx0KKfS"
   },
   "source": [
    "**Make a plot about number of orders per hour**"
   ]
  },
  {
   "cell_type": "code",
   "execution_count": 17,
   "metadata": {
    "colab": {},
    "colab_type": "code",
    "id": "-KPgD51AKKE6"
   },
   "outputs": [
    {
     "data": {
      "text/plain": [
       "<matplotlib.axes._subplots.AxesSubplot at 0x2ae292552b0>"
      ]
     },
     "execution_count": 17,
     "metadata": {},
     "output_type": "execute_result"
    },
    {
     "data": {
      "image/png": "[encoded data removed]",
      "text/plain": [
       "<Figure size 432x288 with 1 Axes>"
      ]
     },
     "metadata": {
      "needs_background": "light"
     },
     "output_type": "display_data"
    }
   ],
   "source": [
    "sns.countplot(x='hour',data = Onl)"
   ]
  },
  {
   "cell_type": "markdown",
   "metadata": {
    "colab_type": "text",
    "id": "-8ZwTvS6L0vS"
   },
   "source": [
    "**How many orders (per month)?**"
   ]
  },
  {
   "cell_type": "code",
   "execution_count": 18,
   "metadata": {
    "colab": {},
    "colab_type": "code",
    "id": "NeOp_6a3L0vX"
   },
   "outputs": [
    {
     "name": "stdout",
     "output_type": "stream",
     "text": [
      "44273.583333333336  Orders per month\n"
     ]
    }
   ],
   "source": [
    "Onl['month'] = pd.DatetimeIndex(Onl['InvoiceDate']).month\n",
    "Onl3 = Onl.groupby('month').size().mean()\n",
    "print(Onl3,' Orders per month')"
   ]
  },
  {
   "cell_type": "markdown",
   "metadata": {
    "colab_type": "text",
    "id": "sOYrMUczL0vb"
   },
   "source": [
    "**Make a plot about number of orders per month**"
   ]
  },
  {
   "cell_type": "code",
   "execution_count": 19,
   "metadata": {
    "colab": {},
    "colab_type": "code",
    "id": "e7RJQ5MbL4cY"
   },
   "outputs": [
    {
     "data": {
      "text/plain": [
       "<matplotlib.axes._subplots.AxesSubplot at 0x2ae29261e10>"
      ]
     },
     "execution_count": 19,
     "metadata": {},
     "output_type": "execute_result"
    },
    {
     "data": {
      "image/png": "[encoded data removed]",
      "text/plain": [
       "<Figure size 432x288 with 1 Axes>"
      ]
     },
     "metadata": {
      "needs_background": "light"
     },
     "output_type": "display_data"
    }
   ],
   "source": [
    "sns.countplot(x='month',data=Onl)"
   ]
  },
  {
   "cell_type": "markdown",
   "metadata": {
    "colab_type": "text",
    "id": "E3eeyQeBLd6e"
   },
   "source": [
    "**Top 10 items most sales**"
   ]
  },
  {
   "cell_type": "code",
   "execution_count": 21,
   "metadata": {
    "colab": {},
    "colab_type": "code",
    "id": "4trjB9ZjLhEv"
   },
   "outputs": [],
   "source": [
    "Onl.drop(columns = ['year','hour','month'],inplace = True)"
   ]
  },
  {
   "cell_type": "code",
   "execution_count": 22,
   "metadata": {},
   "outputs": [
    {
     "data": {
      "text/plain": [
       "StockCode\n",
       "85123A    2270\n",
       "85099B    2115\n",
       "22423     2019\n",
       "47566     1707\n",
       "20725     1595\n",
       "84879     1489\n",
       "22197     1426\n",
       "22720     1401\n",
       "21212     1370\n",
       "20727     1328\n",
       "dtype: int64"
      ]
     },
     "execution_count": 22,
     "metadata": {},
     "output_type": "execute_result"
    }
   ],
   "source": [
    "Onl.groupby(['StockCode']).size().nlargest(10)"
   ]
  },
  {
   "cell_type": "markdown",
   "metadata": {
    "colab_type": "text",
    "id": "ggak_TMtLh5o"
   },
   "source": []
  },
  {
   "cell_type": "markdown",
   "metadata": {
    "colab_type": "text",
    "id": "-dEBLw1uPm1-"
   },
   "source": [
    "**Create a histogram with the 10 countries that have the most 'Quantity' ordered except UK**"
   ]
  },
  {
   "cell_type": "code",
   "execution_count": 23,
   "metadata": {
    "colab": {},
    "colab_type": "code",
    "id": "_N-UF331Pm1-",
    "scrolled": true
   },
   "outputs": [
    {
     "data": {
      "text/plain": [
       "<matplotlib.axes._subplots.AxesSubplot at 0x2ae292db6d8>"
      ]
     },
     "execution_count": 23,
     "metadata": {},
     "output_type": "execute_result"
    },
    {
     "data": {
      "image/png": "[encoded data removed]",
      "text/plain": [
       "<Figure size 432x288 with 1 Axes>"
      ]
     },
     "metadata": {
      "needs_background": "light"
     },
     "output_type": "display_data"
    }
   ],
   "source": [
    "# Your code here\n",
    "Onl_hist = Onl.groupby(['Country']).sum()['Quantity'].nlargest(10)\n",
    "Onl_hist.drop(labels = 'United Kingdom',inplace = True)\n",
    "Onl_hist\n",
    "sns.distplot(Onl_hist, kde = False, bins=15)\n",
    "#sns.distplot(df['tip'], kde = False, bins = 10)\n",
    "#plt.show()\n",
    "# What can you tell about this?\n",
    "#Huhuhu em hiện tại chưa biết huhuhu"
   ]
  },
  {
   "cell_type": "markdown",
   "metadata": {
    "colab_type": "text",
    "id": "MoBgPjDiwhdV"
   },
   "source": [
    "### You are awesome!!"
   ]
  }
 ],
 "metadata": {
  "colab": {
   "include_colab_link": true,
   "name": "Assignment_3_EDA.ipynb",
   "provenance": []
  },
  "kernelspec": {
   "display_name": "Python 3",
   "language": "python",
   "name": "python3"
  },
  "language_info": {
   "codemirror_mode": {
    "name": "ipython",
    "version": 3
   },
   "file_extension": ".py",
   "mimetype": "text/x-python",
   "name": "python",
   "nbconvert_exporter": "python",
   "pygments_lexer": "ipython3",
   "version": "3.7.3"
  }
 },
 "nbformat": 4,
 "nbformat_minor": 1
}
